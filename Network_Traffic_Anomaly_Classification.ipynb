{
  "nbformat": 4,
  "nbformat_minor": 0,
  "metadata": {
    "colab": {
      "provenance": []
    },
    "kernelspec": {
      "name": "python3",
      "display_name": "Python 3"
    },
    "language_info": {
      "name": "python"
    },
    "widgets": {
      "application/vnd.jupyter.widget-state+json": {
        "ee1e4fb9ffea446f840f3f31b72c61bc": {
          "model_module": "@jupyter-widgets/controls",
          "model_name": "VBoxModel",
          "model_module_version": "1.5.0",
          "state": {
            "_dom_classes": [
              "widget-interact"
            ],
            "_model_module": "@jupyter-widgets/controls",
            "_model_module_version": "1.5.0",
            "_model_name": "VBoxModel",
            "_view_count": null,
            "_view_module": "@jupyter-widgets/controls",
            "_view_module_version": "1.5.0",
            "_view_name": "VBoxView",
            "box_style": "",
            "children": [
              "IPY_MODEL_261f15aa7ecd4fe792bf07b8569c960d",
              "IPY_MODEL_b2b058ae5302480a8a6e0ce4d74f0aa6",
              "IPY_MODEL_9dd1036e92a74c01a56ddfbf0029ef07",
              "IPY_MODEL_c3613af954f34c1595e05ad8bfe43f7c",
              "IPY_MODEL_0ce723edf2d74c01873020bddf79c764",
              "IPY_MODEL_79427bdbb8794be08f74363cb3eaf386",
              "IPY_MODEL_366e66ad107f44d7b830e13ea09ccee6",
              "IPY_MODEL_b0ccd2618ff84b2b8bb08467d7f791c5",
              "IPY_MODEL_4e2d0aa7dbdf4c2ba90bcee0bbdea0ae"
            ],
            "layout": "IPY_MODEL_9bb2d7e17e7e4db2a779c45a85a11641"
          }
        },
        "261f15aa7ecd4fe792bf07b8569c960d": {
          "model_module": "@jupyter-widgets/controls",
          "model_name": "FloatTextModel",
          "model_module_version": "1.5.0",
          "state": {
            "_dom_classes": [],
            "_model_module": "@jupyter-widgets/controls",
            "_model_module_version": "1.5.0",
            "_model_name": "FloatTextModel",
            "_view_count": null,
            "_view_module": "@jupyter-widgets/controls",
            "_view_module_version": "1.5.0",
            "_view_name": "FloatTextView",
            "continuous_update": false,
            "description": "Duration:",
            "description_tooltip": null,
            "disabled": false,
            "layout": "IPY_MODEL_0d88c05257074693b952b8b6c2c9f743",
            "step": null,
            "style": "IPY_MODEL_06180ec63b2c4398950fe14c0883067e",
            "value": 24.0777
          }
        },
        "b2b058ae5302480a8a6e0ce4d74f0aa6": {
          "model_module": "@jupyter-widgets/controls",
          "model_name": "DropdownModel",
          "model_module_version": "1.5.0",
          "state": {
            "_dom_classes": [],
            "_model_module": "@jupyter-widgets/controls",
            "_model_module_version": "1.5.0",
            "_model_name": "DropdownModel",
            "_options_labels": [
              "0",
              "1",
              "2"
            ],
            "_view_count": null,
            "_view_module": "@jupyter-widgets/controls",
            "_view_module_version": "1.5.0",
            "_view_name": "DropdownView",
            "description": "Protocol:",
            "description_tooltip": null,
            "disabled": false,
            "index": 0,
            "layout": "IPY_MODEL_4488340c161c4f7f93e7f333014b01be",
            "style": "IPY_MODEL_26c753bdc3724d5c80636871002dbe5e"
          }
        },
        "9dd1036e92a74c01a56ddfbf0029ef07": {
          "model_module": "@jupyter-widgets/controls",
          "model_name": "TextModel",
          "model_module_version": "1.5.0",
          "state": {
            "_dom_classes": [],
            "_model_module": "@jupyter-widgets/controls",
            "_model_module_version": "1.5.0",
            "_model_name": "TextModel",
            "_view_count": null,
            "_view_module": "@jupyter-widgets/controls",
            "_view_module_version": "1.5.0",
            "_view_name": "TextView",
            "continuous_update": true,
            "description": "SourceIP:",
            "description_tooltip": null,
            "disabled": false,
            "layout": "IPY_MODEL_9ec07d034dd448c88b7ac44d68b4fde8",
            "placeholder": "​",
            "style": "IPY_MODEL_584e924ab8f24974a958e438f9afa5d3",
            "value": "192.168.1.1"
          }
        },
        "c3613af954f34c1595e05ad8bfe43f7c": {
          "model_module": "@jupyter-widgets/controls",
          "model_name": "TextModel",
          "model_module_version": "1.5.0",
          "state": {
            "_dom_classes": [],
            "_model_module": "@jupyter-widgets/controls",
            "_model_module_version": "1.5.0",
            "_model_name": "TextModel",
            "_view_count": null,
            "_view_module": "@jupyter-widgets/controls",
            "_view_module_version": "1.5.0",
            "_view_name": "TextView",
            "continuous_update": true,
            "description": "DestinationIP:",
            "description_tooltip": null,
            "disabled": false,
            "layout": "IPY_MODEL_a9f482ad3a0345a7b7665654cf4b5efe",
            "placeholder": "​",
            "style": "IPY_MODEL_1f6ad5e828bb42fea694aa0d18accab5",
            "value": "10.0.0.1"
          }
        },
        "0ce723edf2d74c01873020bddf79c764": {
          "model_module": "@jupyter-widgets/controls",
          "model_name": "IntTextModel",
          "model_module_version": "1.5.0",
          "state": {
            "_dom_classes": [],
            "_model_module": "@jupyter-widgets/controls",
            "_model_module_version": "1.5.0",
            "_model_name": "IntTextModel",
            "_view_count": null,
            "_view_module": "@jupyter-widgets/controls",
            "_view_module_version": "1.5.0",
            "_view_name": "IntTextView",
            "continuous_update": false,
            "description": "SourcePort:",
            "description_tooltip": null,
            "disabled": false,
            "layout": "IPY_MODEL_f80951c7d4ec4dca99b03b36fa955db3",
            "step": 1,
            "style": "IPY_MODEL_cc01376abaca4a878a3bc09805333987",
            "value": 8055
          }
        },
        "79427bdbb8794be08f74363cb3eaf386": {
          "model_module": "@jupyter-widgets/controls",
          "model_name": "IntTextModel",
          "model_module_version": "1.5.0",
          "state": {
            "_dom_classes": [],
            "_model_module": "@jupyter-widgets/controls",
            "_model_module_version": "1.5.0",
            "_model_name": "IntTextModel",
            "_view_count": null,
            "_view_module": "@jupyter-widgets/controls",
            "_view_module_version": "1.5.0",
            "_view_name": "IntTextView",
            "continuous_update": false,
            "description": "DestinationPort:",
            "description_tooltip": null,
            "disabled": false,
            "layout": "IPY_MODEL_290e3e900ede4cb2a17503ae84d27368",
            "step": 1,
            "style": "IPY_MODEL_9004994dfd2948fc88378e4d2af3d046",
            "value": 1
          }
        },
        "366e66ad107f44d7b830e13ea09ccee6": {
          "model_module": "@jupyter-widgets/controls",
          "model_name": "IntTextModel",
          "model_module_version": "1.5.0",
          "state": {
            "_dom_classes": [],
            "_model_module": "@jupyter-widgets/controls",
            "_model_module_version": "1.5.0",
            "_model_name": "IntTextModel",
            "_view_count": null,
            "_view_module": "@jupyter-widgets/controls",
            "_view_module_version": "1.5.0",
            "_view_name": "IntTextView",
            "continuous_update": false,
            "description": "PacketCount:",
            "description_tooltip": null,
            "disabled": false,
            "layout": "IPY_MODEL_8d7b5c82e75f4af5b328b221d10236b3",
            "step": 1,
            "style": "IPY_MODEL_c64c87d5b2614895b6799633c4e8d749",
            "value": 827
          }
        },
        "b0ccd2618ff84b2b8bb08467d7f791c5": {
          "model_module": "@jupyter-widgets/controls",
          "model_name": "IntTextModel",
          "model_module_version": "1.5.0",
          "state": {
            "_dom_classes": [],
            "_model_module": "@jupyter-widgets/controls",
            "_model_module_version": "1.5.0",
            "_model_name": "IntTextModel",
            "_view_count": null,
            "_view_module": "@jupyter-widgets/controls",
            "_view_module_version": "1.5.0",
            "_view_name": "IntTextView",
            "continuous_update": false,
            "description": "ByteCount:",
            "description_tooltip": null,
            "disabled": false,
            "layout": "IPY_MODEL_36e73c07128141f5891f5da64aa04c0f",
            "step": 1,
            "style": "IPY_MODEL_48864f74c4634172af860a3111c1edfb",
            "value": 198244
          }
        },
        "4e2d0aa7dbdf4c2ba90bcee0bbdea0ae": {
          "model_module": "@jupyter-widgets/output",
          "model_name": "OutputModel",
          "model_module_version": "1.0.0",
          "state": {
            "_dom_classes": [],
            "_model_module": "@jupyter-widgets/output",
            "_model_module_version": "1.0.0",
            "_model_name": "OutputModel",
            "_view_count": null,
            "_view_module": "@jupyter-widgets/output",
            "_view_module_version": "1.0.0",
            "_view_name": "OutputView",
            "layout": "IPY_MODEL_8091debac567404da556af99b698d333",
            "msg_id": "",
            "outputs": [
              {
                "output_type": "stream",
                "name": "stdout",
                "text": [
                  "SVM Prediction: 1\n",
                  "MultinomialNB Prediction: 0\n",
                  "RandomForest Prediction: 0\n"
                ]
              }
            ]
          }
        },
        "9bb2d7e17e7e4db2a779c45a85a11641": {
          "model_module": "@jupyter-widgets/base",
          "model_name": "LayoutModel",
          "model_module_version": "1.2.0",
          "state": {
            "_model_module": "@jupyter-widgets/base",
            "_model_module_version": "1.2.0",
            "_model_name": "LayoutModel",
            "_view_count": null,
            "_view_module": "@jupyter-widgets/base",
            "_view_module_version": "1.2.0",
            "_view_name": "LayoutView",
            "align_content": null,
            "align_items": null,
            "align_self": null,
            "border": null,
            "bottom": null,
            "display": null,
            "flex": null,
            "flex_flow": null,
            "grid_area": null,
            "grid_auto_columns": null,
            "grid_auto_flow": null,
            "grid_auto_rows": null,
            "grid_column": null,
            "grid_gap": null,
            "grid_row": null,
            "grid_template_areas": null,
            "grid_template_columns": null,
            "grid_template_rows": null,
            "height": null,
            "justify_content": null,
            "justify_items": null,
            "left": null,
            "margin": null,
            "max_height": null,
            "max_width": null,
            "min_height": null,
            "min_width": null,
            "object_fit": null,
            "object_position": null,
            "order": null,
            "overflow": null,
            "overflow_x": null,
            "overflow_y": null,
            "padding": null,
            "right": null,
            "top": null,
            "visibility": null,
            "width": null
          }
        },
        "0d88c05257074693b952b8b6c2c9f743": {
          "model_module": "@jupyter-widgets/base",
          "model_name": "LayoutModel",
          "model_module_version": "1.2.0",
          "state": {
            "_model_module": "@jupyter-widgets/base",
            "_model_module_version": "1.2.0",
            "_model_name": "LayoutModel",
            "_view_count": null,
            "_view_module": "@jupyter-widgets/base",
            "_view_module_version": "1.2.0",
            "_view_name": "LayoutView",
            "align_content": null,
            "align_items": null,
            "align_self": null,
            "border": null,
            "bottom": null,
            "display": null,
            "flex": null,
            "flex_flow": null,
            "grid_area": null,
            "grid_auto_columns": null,
            "grid_auto_flow": null,
            "grid_auto_rows": null,
            "grid_column": null,
            "grid_gap": null,
            "grid_row": null,
            "grid_template_areas": null,
            "grid_template_columns": null,
            "grid_template_rows": null,
            "height": null,
            "justify_content": null,
            "justify_items": null,
            "left": null,
            "margin": null,
            "max_height": null,
            "max_width": null,
            "min_height": null,
            "min_width": null,
            "object_fit": null,
            "object_position": null,
            "order": null,
            "overflow": null,
            "overflow_x": null,
            "overflow_y": null,
            "padding": null,
            "right": null,
            "top": null,
            "visibility": null,
            "width": null
          }
        },
        "06180ec63b2c4398950fe14c0883067e": {
          "model_module": "@jupyter-widgets/controls",
          "model_name": "DescriptionStyleModel",
          "model_module_version": "1.5.0",
          "state": {
            "_model_module": "@jupyter-widgets/controls",
            "_model_module_version": "1.5.0",
            "_model_name": "DescriptionStyleModel",
            "_view_count": null,
            "_view_module": "@jupyter-widgets/base",
            "_view_module_version": "1.2.0",
            "_view_name": "StyleView",
            "description_width": ""
          }
        },
        "4488340c161c4f7f93e7f333014b01be": {
          "model_module": "@jupyter-widgets/base",
          "model_name": "LayoutModel",
          "model_module_version": "1.2.0",
          "state": {
            "_model_module": "@jupyter-widgets/base",
            "_model_module_version": "1.2.0",
            "_model_name": "LayoutModel",
            "_view_count": null,
            "_view_module": "@jupyter-widgets/base",
            "_view_module_version": "1.2.0",
            "_view_name": "LayoutView",
            "align_content": null,
            "align_items": null,
            "align_self": null,
            "border": null,
            "bottom": null,
            "display": null,
            "flex": null,
            "flex_flow": null,
            "grid_area": null,
            "grid_auto_columns": null,
            "grid_auto_flow": null,
            "grid_auto_rows": null,
            "grid_column": null,
            "grid_gap": null,
            "grid_row": null,
            "grid_template_areas": null,
            "grid_template_columns": null,
            "grid_template_rows": null,
            "height": null,
            "justify_content": null,
            "justify_items": null,
            "left": null,
            "margin": null,
            "max_height": null,
            "max_width": null,
            "min_height": null,
            "min_width": null,
            "object_fit": null,
            "object_position": null,
            "order": null,
            "overflow": null,
            "overflow_x": null,
            "overflow_y": null,
            "padding": null,
            "right": null,
            "top": null,
            "visibility": null,
            "width": null
          }
        },
        "26c753bdc3724d5c80636871002dbe5e": {
          "model_module": "@jupyter-widgets/controls",
          "model_name": "DescriptionStyleModel",
          "model_module_version": "1.5.0",
          "state": {
            "_model_module": "@jupyter-widgets/controls",
            "_model_module_version": "1.5.0",
            "_model_name": "DescriptionStyleModel",
            "_view_count": null,
            "_view_module": "@jupyter-widgets/base",
            "_view_module_version": "1.2.0",
            "_view_name": "StyleView",
            "description_width": ""
          }
        },
        "9ec07d034dd448c88b7ac44d68b4fde8": {
          "model_module": "@jupyter-widgets/base",
          "model_name": "LayoutModel",
          "model_module_version": "1.2.0",
          "state": {
            "_model_module": "@jupyter-widgets/base",
            "_model_module_version": "1.2.0",
            "_model_name": "LayoutModel",
            "_view_count": null,
            "_view_module": "@jupyter-widgets/base",
            "_view_module_version": "1.2.0",
            "_view_name": "LayoutView",
            "align_content": null,
            "align_items": null,
            "align_self": null,
            "border": null,
            "bottom": null,
            "display": null,
            "flex": null,
            "flex_flow": null,
            "grid_area": null,
            "grid_auto_columns": null,
            "grid_auto_flow": null,
            "grid_auto_rows": null,
            "grid_column": null,
            "grid_gap": null,
            "grid_row": null,
            "grid_template_areas": null,
            "grid_template_columns": null,
            "grid_template_rows": null,
            "height": null,
            "justify_content": null,
            "justify_items": null,
            "left": null,
            "margin": null,
            "max_height": null,
            "max_width": null,
            "min_height": null,
            "min_width": null,
            "object_fit": null,
            "object_position": null,
            "order": null,
            "overflow": null,
            "overflow_x": null,
            "overflow_y": null,
            "padding": null,
            "right": null,
            "top": null,
            "visibility": null,
            "width": null
          }
        },
        "584e924ab8f24974a958e438f9afa5d3": {
          "model_module": "@jupyter-widgets/controls",
          "model_name": "DescriptionStyleModel",
          "model_module_version": "1.5.0",
          "state": {
            "_model_module": "@jupyter-widgets/controls",
            "_model_module_version": "1.5.0",
            "_model_name": "DescriptionStyleModel",
            "_view_count": null,
            "_view_module": "@jupyter-widgets/base",
            "_view_module_version": "1.2.0",
            "_view_name": "StyleView",
            "description_width": ""
          }
        },
        "a9f482ad3a0345a7b7665654cf4b5efe": {
          "model_module": "@jupyter-widgets/base",
          "model_name": "LayoutModel",
          "model_module_version": "1.2.0",
          "state": {
            "_model_module": "@jupyter-widgets/base",
            "_model_module_version": "1.2.0",
            "_model_name": "LayoutModel",
            "_view_count": null,
            "_view_module": "@jupyter-widgets/base",
            "_view_module_version": "1.2.0",
            "_view_name": "LayoutView",
            "align_content": null,
            "align_items": null,
            "align_self": null,
            "border": null,
            "bottom": null,
            "display": null,
            "flex": null,
            "flex_flow": null,
            "grid_area": null,
            "grid_auto_columns": null,
            "grid_auto_flow": null,
            "grid_auto_rows": null,
            "grid_column": null,
            "grid_gap": null,
            "grid_row": null,
            "grid_template_areas": null,
            "grid_template_columns": null,
            "grid_template_rows": null,
            "height": null,
            "justify_content": null,
            "justify_items": null,
            "left": null,
            "margin": null,
            "max_height": null,
            "max_width": null,
            "min_height": null,
            "min_width": null,
            "object_fit": null,
            "object_position": null,
            "order": null,
            "overflow": null,
            "overflow_x": null,
            "overflow_y": null,
            "padding": null,
            "right": null,
            "top": null,
            "visibility": null,
            "width": null
          }
        },
        "1f6ad5e828bb42fea694aa0d18accab5": {
          "model_module": "@jupyter-widgets/controls",
          "model_name": "DescriptionStyleModel",
          "model_module_version": "1.5.0",
          "state": {
            "_model_module": "@jupyter-widgets/controls",
            "_model_module_version": "1.5.0",
            "_model_name": "DescriptionStyleModel",
            "_view_count": null,
            "_view_module": "@jupyter-widgets/base",
            "_view_module_version": "1.2.0",
            "_view_name": "StyleView",
            "description_width": ""
          }
        },
        "f80951c7d4ec4dca99b03b36fa955db3": {
          "model_module": "@jupyter-widgets/base",
          "model_name": "LayoutModel",
          "model_module_version": "1.2.0",
          "state": {
            "_model_module": "@jupyter-widgets/base",
            "_model_module_version": "1.2.0",
            "_model_name": "LayoutModel",
            "_view_count": null,
            "_view_module": "@jupyter-widgets/base",
            "_view_module_version": "1.2.0",
            "_view_name": "LayoutView",
            "align_content": null,
            "align_items": null,
            "align_self": null,
            "border": null,
            "bottom": null,
            "display": null,
            "flex": null,
            "flex_flow": null,
            "grid_area": null,
            "grid_auto_columns": null,
            "grid_auto_flow": null,
            "grid_auto_rows": null,
            "grid_column": null,
            "grid_gap": null,
            "grid_row": null,
            "grid_template_areas": null,
            "grid_template_columns": null,
            "grid_template_rows": null,
            "height": null,
            "justify_content": null,
            "justify_items": null,
            "left": null,
            "margin": null,
            "max_height": null,
            "max_width": null,
            "min_height": null,
            "min_width": null,
            "object_fit": null,
            "object_position": null,
            "order": null,
            "overflow": null,
            "overflow_x": null,
            "overflow_y": null,
            "padding": null,
            "right": null,
            "top": null,
            "visibility": null,
            "width": null
          }
        },
        "cc01376abaca4a878a3bc09805333987": {
          "model_module": "@jupyter-widgets/controls",
          "model_name": "DescriptionStyleModel",
          "model_module_version": "1.5.0",
          "state": {
            "_model_module": "@jupyter-widgets/controls",
            "_model_module_version": "1.5.0",
            "_model_name": "DescriptionStyleModel",
            "_view_count": null,
            "_view_module": "@jupyter-widgets/base",
            "_view_module_version": "1.2.0",
            "_view_name": "StyleView",
            "description_width": ""
          }
        },
        "290e3e900ede4cb2a17503ae84d27368": {
          "model_module": "@jupyter-widgets/base",
          "model_name": "LayoutModel",
          "model_module_version": "1.2.0",
          "state": {
            "_model_module": "@jupyter-widgets/base",
            "_model_module_version": "1.2.0",
            "_model_name": "LayoutModel",
            "_view_count": null,
            "_view_module": "@jupyter-widgets/base",
            "_view_module_version": "1.2.0",
            "_view_name": "LayoutView",
            "align_content": null,
            "align_items": null,
            "align_self": null,
            "border": null,
            "bottom": null,
            "display": null,
            "flex": null,
            "flex_flow": null,
            "grid_area": null,
            "grid_auto_columns": null,
            "grid_auto_flow": null,
            "grid_auto_rows": null,
            "grid_column": null,
            "grid_gap": null,
            "grid_row": null,
            "grid_template_areas": null,
            "grid_template_columns": null,
            "grid_template_rows": null,
            "height": null,
            "justify_content": null,
            "justify_items": null,
            "left": null,
            "margin": null,
            "max_height": null,
            "max_width": null,
            "min_height": null,
            "min_width": null,
            "object_fit": null,
            "object_position": null,
            "order": null,
            "overflow": null,
            "overflow_x": null,
            "overflow_y": null,
            "padding": null,
            "right": null,
            "top": null,
            "visibility": null,
            "width": null
          }
        },
        "9004994dfd2948fc88378e4d2af3d046": {
          "model_module": "@jupyter-widgets/controls",
          "model_name": "DescriptionStyleModel",
          "model_module_version": "1.5.0",
          "state": {
            "_model_module": "@jupyter-widgets/controls",
            "_model_module_version": "1.5.0",
            "_model_name": "DescriptionStyleModel",
            "_view_count": null,
            "_view_module": "@jupyter-widgets/base",
            "_view_module_version": "1.2.0",
            "_view_name": "StyleView",
            "description_width": ""
          }
        },
        "8d7b5c82e75f4af5b328b221d10236b3": {
          "model_module": "@jupyter-widgets/base",
          "model_name": "LayoutModel",
          "model_module_version": "1.2.0",
          "state": {
            "_model_module": "@jupyter-widgets/base",
            "_model_module_version": "1.2.0",
            "_model_name": "LayoutModel",
            "_view_count": null,
            "_view_module": "@jupyter-widgets/base",
            "_view_module_version": "1.2.0",
            "_view_name": "LayoutView",
            "align_content": null,
            "align_items": null,
            "align_self": null,
            "border": null,
            "bottom": null,
            "display": null,
            "flex": null,
            "flex_flow": null,
            "grid_area": null,
            "grid_auto_columns": null,
            "grid_auto_flow": null,
            "grid_auto_rows": null,
            "grid_column": null,
            "grid_gap": null,
            "grid_row": null,
            "grid_template_areas": null,
            "grid_template_columns": null,
            "grid_template_rows": null,
            "height": null,
            "justify_content": null,
            "justify_items": null,
            "left": null,
            "margin": null,
            "max_height": null,
            "max_width": null,
            "min_height": null,
            "min_width": null,
            "object_fit": null,
            "object_position": null,
            "order": null,
            "overflow": null,
            "overflow_x": null,
            "overflow_y": null,
            "padding": null,
            "right": null,
            "top": null,
            "visibility": null,
            "width": null
          }
        },
        "c64c87d5b2614895b6799633c4e8d749": {
          "model_module": "@jupyter-widgets/controls",
          "model_name": "DescriptionStyleModel",
          "model_module_version": "1.5.0",
          "state": {
            "_model_module": "@jupyter-widgets/controls",
            "_model_module_version": "1.5.0",
            "_model_name": "DescriptionStyleModel",
            "_view_count": null,
            "_view_module": "@jupyter-widgets/base",
            "_view_module_version": "1.2.0",
            "_view_name": "StyleView",
            "description_width": ""
          }
        },
        "36e73c07128141f5891f5da64aa04c0f": {
          "model_module": "@jupyter-widgets/base",
          "model_name": "LayoutModel",
          "model_module_version": "1.2.0",
          "state": {
            "_model_module": "@jupyter-widgets/base",
            "_model_module_version": "1.2.0",
            "_model_name": "LayoutModel",
            "_view_count": null,
            "_view_module": "@jupyter-widgets/base",
            "_view_module_version": "1.2.0",
            "_view_name": "LayoutView",
            "align_content": null,
            "align_items": null,
            "align_self": null,
            "border": null,
            "bottom": null,
            "display": null,
            "flex": null,
            "flex_flow": null,
            "grid_area": null,
            "grid_auto_columns": null,
            "grid_auto_flow": null,
            "grid_auto_rows": null,
            "grid_column": null,
            "grid_gap": null,
            "grid_row": null,
            "grid_template_areas": null,
            "grid_template_columns": null,
            "grid_template_rows": null,
            "height": null,
            "justify_content": null,
            "justify_items": null,
            "left": null,
            "margin": null,
            "max_height": null,
            "max_width": null,
            "min_height": null,
            "min_width": null,
            "object_fit": null,
            "object_position": null,
            "order": null,
            "overflow": null,
            "overflow_x": null,
            "overflow_y": null,
            "padding": null,
            "right": null,
            "top": null,
            "visibility": null,
            "width": null
          }
        },
        "48864f74c4634172af860a3111c1edfb": {
          "model_module": "@jupyter-widgets/controls",
          "model_name": "DescriptionStyleModel",
          "model_module_version": "1.5.0",
          "state": {
            "_model_module": "@jupyter-widgets/controls",
            "_model_module_version": "1.5.0",
            "_model_name": "DescriptionStyleModel",
            "_view_count": null,
            "_view_module": "@jupyter-widgets/base",
            "_view_module_version": "1.2.0",
            "_view_name": "StyleView",
            "description_width": ""
          }
        },
        "8091debac567404da556af99b698d333": {
          "model_module": "@jupyter-widgets/base",
          "model_name": "LayoutModel",
          "model_module_version": "1.2.0",
          "state": {
            "_model_module": "@jupyter-widgets/base",
            "_model_module_version": "1.2.0",
            "_model_name": "LayoutModel",
            "_view_count": null,
            "_view_module": "@jupyter-widgets/base",
            "_view_module_version": "1.2.0",
            "_view_name": "LayoutView",
            "align_content": null,
            "align_items": null,
            "align_self": null,
            "border": null,
            "bottom": null,
            "display": null,
            "flex": null,
            "flex_flow": null,
            "grid_area": null,
            "grid_auto_columns": null,
            "grid_auto_flow": null,
            "grid_auto_rows": null,
            "grid_column": null,
            "grid_gap": null,
            "grid_row": null,
            "grid_template_areas": null,
            "grid_template_columns": null,
            "grid_template_rows": null,
            "height": null,
            "justify_content": null,
            "justify_items": null,
            "left": null,
            "margin": null,
            "max_height": null,
            "max_width": null,
            "min_height": null,
            "min_width": null,
            "object_fit": null,
            "object_position": null,
            "order": null,
            "overflow": null,
            "overflow_x": null,
            "overflow_y": null,
            "padding": null,
            "right": null,
            "top": null,
            "visibility": null,
            "width": null
          }
        }
      }
    }
  },
  "cells": [
    {
      "cell_type": "code",
      "execution_count": 1,
      "metadata": {
        "id": "YaSY_5n8LSB_"
      },
      "outputs": [],
      "source": [
        "import pandas as pd\n",
        "import numpy as np\n",
        "import kagglehub\n",
        "import os\n",
        "import matplotlib.pyplot as plt\n",
        "from tabulate import tabulate\n",
        "from sklearn.preprocessing import StandardScaler, LabelEncoder\n",
        "from sklearn.model_selection import train_test_split\n",
        "from sklearn.metrics import accuracy_score, precision_score, recall_score, f1_score\n",
        "from sklearn.svm import SVC\n",
        "from sklearn.naive_bayes import MultinomialNB\n",
        "from sklearn.ensemble import RandomForestClassifier"
      ]
    },
    {
      "cell_type": "code",
      "source": [
        "import kagglehub\n",
        "\n",
        "# Download latest version\n",
        "path = kagglehub.dataset_download(\"mohdzia356/network-traffic-data-for-intrusion-detection\")\n",
        "\n",
        "print(\"Path to dataset files:\", path)\n",
        "print(os.listdir(path))\n",
        "file_path = os.path.join(path,'network_traffic_data.csv')"
      ],
      "metadata": {
        "colab": {
          "base_uri": "https://localhost:8080/"
        },
        "id": "BubsTnndTnwO",
        "outputId": "30220d8f-e025-402f-d247-f3dab57630ad"
      },
      "execution_count": 2,
      "outputs": [
        {
          "output_type": "stream",
          "name": "stdout",
          "text": [
            "Downloading from https://www.kaggle.com/api/v1/datasets/download/mohdzia356/network-traffic-data-for-intrusion-detection?dataset_version_number=1...\n"
          ]
        },
        {
          "output_type": "stream",
          "name": "stderr",
          "text": [
            "100%|██████████| 53.9k/53.9k [00:00<00:00, 31.4MB/s]"
          ]
        },
        {
          "output_type": "stream",
          "name": "stdout",
          "text": [
            "Extracting files...\n",
            "Path to dataset files: /root/.cache/kagglehub/datasets/mohdzia356/network-traffic-data-for-intrusion-detection/versions/1\n",
            "['network_traffic_data.csv']\n"
          ]
        },
        {
          "output_type": "stream",
          "name": "stderr",
          "text": [
            "\n"
          ]
        }
      ]
    },
    {
      "cell_type": "code",
      "source": [
        "df = pd.read_csv(file_path)\n",
        "print(tabulate(df.head(5), headers='keys', tablefmt='fancy_grid'))"
      ],
      "metadata": {
        "colab": {
          "base_uri": "https://localhost:8080/"
        },
        "id": "2h5eqnxpUd97",
        "outputId": "f520a8c5-86b9-49ce-9df9-057edc786d8c"
      },
      "execution_count": 3,
      "outputs": [
        {
          "output_type": "stream",
          "name": "stdout",
          "text": [
            "╒════╤════════════╤════════════╤═══════════════╤═════════════════╤══════════════╤═══════════════════╤═══════════════╤═════════════╤═════════╕\n",
            "│    │   Duration │ Protocol   │ SourceIP      │ DestinationIP   │   SourcePort │   DestinationPort │   PacketCount │   ByteCount │ Label   │\n",
            "╞════╪════════════╪════════════╪═══════════════╪═════════════════╪══════════════╪═══════════════════╪═══════════════╪═════════════╪═════════╡\n",
            "│  0 │    24.0777 │ TCP        │ 192.168.1.239 │ 192.168.1.234   │         8055 │                 1 │           827 │      198244 │ Attack  │\n",
            "├────┼────────────┼────────────┼───────────────┼─────────────────┼──────────────┼───────────────────┼───────────────┼─────────────┼─────────┤\n",
            "│  1 │    97.2524 │ ICMP       │ 192.168.1.176 │ 192.168.1.82    │        63174 │               687 │           673 │     1202973 │ Normal  │\n",
            "├────┼────────────┼────────────┼───────────────┼─────────────────┼──────────────┼───────────────────┼───────────────┼─────────────┼─────────┤\n",
            "│  2 │    85.8427 │ TCP        │ 192.168.1.120 │ 192.168.1.113   │        30873 │               570 │           319 │      984671 │ Attack  │\n",
            "├────┼────────────┼────────────┼───────────────┼─────────────────┼──────────────┼───────────────────┼───────────────┼─────────────┼─────────┤\n",
            "│  3 │    79.197  │ UDP        │ 192.168.1.212 │ 192.168.1.140   │         4410 │               683 │           375 │       36284 │ Normal  │\n",
            "├────┼────────────┼────────────┼───────────────┼─────────────────┼──────────────┼───────────────────┼───────────────┼─────────────┼─────────┤\n",
            "│  4 │    34.928  │ TCP        │ 192.168.1.17  │ 192.168.1.223   │         4702 │               989 │           465 │      817463 │ Normal  │\n",
            "╘════╧════════════╧════════════╧═══════════════╧═════════════════╧══════════════╧═══════════════════╧═══════════════╧═════════════╧═════════╛\n"
          ]
        }
      ]
    },
    {
      "cell_type": "code",
      "source": [
        "protocol_by_label = df.groupby('Label')['Protocol'].value_counts().reset_index()\n",
        "\n",
        "# Menampilkan hasilnya\n",
        "print(\"Frekuensi Protokol per Label (Sebelum Encoding):\")\n",
        "print(tabulate(protocol_by_label, headers='keys', tablefmt='fancy_grid'))"
      ],
      "metadata": {
        "colab": {
          "base_uri": "https://localhost:8080/"
        },
        "id": "9y2XUA0fiWKZ",
        "outputId": "9968ecf2-d3e0-4235-bcf6-cd910d19df66"
      },
      "execution_count": 4,
      "outputs": [
        {
          "output_type": "stream",
          "name": "stdout",
          "text": [
            "Frekuensi Protokol per Label (Sebelum Encoding):\n",
            "╒════╤═════════╤════════════╤═════════╕\n",
            "│    │ Label   │ Protocol   │   count │\n",
            "╞════╪═════════╪════════════╪═════════╡\n",
            "│  0 │ Attack  │ TCP        │     374 │\n",
            "├────┼─────────┼────────────┼─────────┤\n",
            "│  1 │ Attack  │ UDP        │     329 │\n",
            "├────┼─────────┼────────────┼─────────┤\n",
            "│  2 │ Attack  │ ICMP       │     319 │\n",
            "├────┼─────────┼────────────┼─────────┤\n",
            "│  3 │ Normal  │ ICMP       │     339 │\n",
            "├────┼─────────┼────────────┼─────────┤\n",
            "│  4 │ Normal  │ UDP        │     323 │\n",
            "├────┼─────────┼────────────┼─────────┤\n",
            "│  5 │ Normal  │ TCP        │     316 │\n",
            "╘════╧═════════╧════════════╧═════════╛\n"
          ]
        }
      ]
    },
    {
      "cell_type": "code",
      "source": [
        "total_label = df['Label'].value_counts().reset_index()\n",
        "total_label.columns = ['Label', 'Count']\n",
        "from tabulate import tabulate\n",
        "print(tabulate(total_label, headers='keys', tablefmt='fancy_grid'))\n"
      ],
      "metadata": {
        "colab": {
          "base_uri": "https://localhost:8080/"
        },
        "id": "l6H85BLiih1W",
        "outputId": "04112352-caec-4fa8-a5dd-428537742d56"
      },
      "execution_count": 5,
      "outputs": [
        {
          "output_type": "stream",
          "name": "stdout",
          "text": [
            "╒════╤═════════╤═════════╕\n",
            "│    │ Label   │   Count │\n",
            "╞════╪═════════╪═════════╡\n",
            "│  0 │ Attack  │    1022 │\n",
            "├────┼─────────┼─────────┤\n",
            "│  1 │ Normal  │     978 │\n",
            "╘════╧═════════╧═════════╛\n"
          ]
        }
      ]
    },
    {
      "cell_type": "code",
      "source": [
        "label_encoders = {}\n",
        "for column in df.select_dtypes(include=['object']).columns:\n",
        "    le = LabelEncoder()\n",
        "    df[column] = le.fit_transform(df[column])\n",
        "    label_encoders[column] = le\n",
        "\n",
        "print(tabulate(df.head(5), headers='keys', tablefmt='fancy_grid'))"
      ],
      "metadata": {
        "colab": {
          "base_uri": "https://localhost:8080/"
        },
        "id": "D2F5f6_ZUtV1",
        "outputId": "bdb37b5e-4650-4176-a9f0-f6472d3bcf12"
      },
      "execution_count": 6,
      "outputs": [
        {
          "output_type": "stream",
          "name": "stdout",
          "text": [
            "╒════╤════════════╤════════════╤════════════╤═════════════════╤══════════════╤═══════════════════╤═══════════════╤══════════════════╤═════════╕\n",
            "│    │   Duration │   Protocol │   SourceIP │   DestinationIP │   SourcePort │   DestinationPort │   PacketCount │        ByteCount │   Label │\n",
            "╞════╪════════════╪════════════╪════════════╪═════════════════╪══════════════╪═══════════════════╪═══════════════╪══════════════════╪═════════╡\n",
            "│  0 │    24.0777 │          1 │        155 │             150 │         8055 │                 1 │           827 │ 198244           │       0 │\n",
            "├────┼────────────┼────────────┼────────────┼─────────────────┼──────────────┼───────────────────┼───────────────┼──────────────────┼─────────┤\n",
            "│  1 │    97.2524 │          0 │         85 │             236 │        63174 │               687 │           673 │      1.20297e+06 │       1 │\n",
            "├────┼────────────┼────────────┼────────────┼─────────────────┼──────────────┼───────────────────┼───────────────┼──────────────────┼─────────┤\n",
            "│  2 │    85.8427 │          1 │         24 │              16 │        30873 │               570 │           319 │ 984671           │       0 │\n",
            "├────┼────────────┼────────────┼────────────┼─────────────────┼──────────────┼───────────────────┼───────────────┼──────────────────┼─────────┤\n",
            "│  3 │    79.197  │          2 │        126 │              46 │         4410 │               683 │           375 │  36284           │       1 │\n",
            "├────┼────────────┼────────────┼────────────┼─────────────────┼──────────────┼───────────────────┼───────────────┼──────────────────┼─────────┤\n",
            "│  4 │    34.928  │          1 │         78 │             138 │         4702 │               989 │           465 │ 817463           │       1 │\n",
            "╘════╧════════════╧════════════╧════════════╧═════════════════╧══════════════╧═══════════════════╧═══════════════╧══════════════════╧═════════╛\n"
          ]
        }
      ]
    },
    {
      "cell_type": "code",
      "source": [
        "datatype = df.dtypes.reset_index()\n",
        "datatype.columns = ['column_name', 'column_type']\n",
        "print(tabulate(datatype, headers='keys', tablefmt='fancy_grid'))"
      ],
      "metadata": {
        "colab": {
          "base_uri": "https://localhost:8080/"
        },
        "id": "u5HXcLOvVvbv",
        "outputId": "38ae82c0-f539-4a41-d644-45c050bc1a7d"
      },
      "execution_count": 7,
      "outputs": [
        {
          "output_type": "stream",
          "name": "stdout",
          "text": [
            "╒════╤═════════════════╤═══════════════╕\n",
            "│    │ column_name     │ column_type   │\n",
            "╞════╪═════════════════╪═══════════════╡\n",
            "│  0 │ Duration        │ float64       │\n",
            "├────┼─────────────────┼───────────────┤\n",
            "│  1 │ Protocol        │ int64         │\n",
            "├────┼─────────────────┼───────────────┤\n",
            "│  2 │ SourceIP        │ int64         │\n",
            "├────┼─────────────────┼───────────────┤\n",
            "│  3 │ DestinationIP   │ int64         │\n",
            "├────┼─────────────────┼───────────────┤\n",
            "│  4 │ SourcePort      │ int64         │\n",
            "├────┼─────────────────┼───────────────┤\n",
            "│  5 │ DestinationPort │ int64         │\n",
            "├────┼─────────────────┼───────────────┤\n",
            "│  6 │ PacketCount     │ int64         │\n",
            "├────┼─────────────────┼───────────────┤\n",
            "│  7 │ ByteCount       │ int64         │\n",
            "├────┼─────────────────┼───────────────┤\n",
            "│  8 │ Label           │ int64         │\n",
            "╘════╧═════════════════╧═══════════════╛\n"
          ]
        }
      ]
    },
    {
      "cell_type": "code",
      "source": [
        "missing = df.isnull().sum().reset_index()\n",
        "missing.columns = ['column_name', 'missing_count']\n",
        "print(tabulate(missing, headers='keys', tablefmt='fancy_grid'))"
      ],
      "metadata": {
        "colab": {
          "base_uri": "https://localhost:8080/"
        },
        "id": "nwcSQ7BUVxKb",
        "outputId": "d1318357-fcbe-4947-a88b-b0842df2f367"
      },
      "execution_count": 8,
      "outputs": [
        {
          "output_type": "stream",
          "name": "stdout",
          "text": [
            "╒════╤═════════════════╤═════════════════╕\n",
            "│    │ column_name     │   missing_count │\n",
            "╞════╪═════════════════╪═════════════════╡\n",
            "│  0 │ Duration        │               0 │\n",
            "├────┼─────────────────┼─────────────────┤\n",
            "│  1 │ Protocol        │               0 │\n",
            "├────┼─────────────────┼─────────────────┤\n",
            "│  2 │ SourceIP        │               0 │\n",
            "├────┼─────────────────┼─────────────────┤\n",
            "│  3 │ DestinationIP   │               0 │\n",
            "├────┼─────────────────┼─────────────────┤\n",
            "│  4 │ SourcePort      │               0 │\n",
            "├────┼─────────────────┼─────────────────┤\n",
            "│  5 │ DestinationPort │               0 │\n",
            "├────┼─────────────────┼─────────────────┤\n",
            "│  6 │ PacketCount     │               0 │\n",
            "├────┼─────────────────┼─────────────────┤\n",
            "│  7 │ ByteCount       │               0 │\n",
            "├────┼─────────────────┼─────────────────┤\n",
            "│  8 │ Label           │               0 │\n",
            "╘════╧═════════════════╧═════════════════╛\n"
          ]
        }
      ]
    },
    {
      "cell_type": "code",
      "source": [
        "total_record = len(df)\n",
        "print('Jumlah record: ', len(df))\n",
        "total_unique_ip = df['SourceIP'].nunique()\n",
        "print('Jumlah Unique Ip: ', total_unique_ip)\n",
        "total_unique_destination = df['DestinationPort'].nunique()\n",
        "print('Jumlah Unique Destination: ', total_unique_destination )\n",
        "total_duplicate = df.duplicated().sum()\n",
        "print(\"Total duplicate rows:\", total_duplicate)"
      ],
      "metadata": {
        "colab": {
          "base_uri": "https://localhost:8080/"
        },
        "id": "s83FUBr6V3px",
        "outputId": "75ff2a86-d5ab-443e-8c0c-9e552a19dfe9"
      },
      "execution_count": 9,
      "outputs": [
        {
          "output_type": "stream",
          "name": "stdout",
          "text": [
            "Jumlah record:  2000\n",
            "Jumlah Unique Ip:  255\n",
            "Jumlah Unique Destination:  870\n",
            "Total duplicate rows: 0\n"
          ]
        }
      ]
    },
    {
      "cell_type": "code",
      "source": [
        "# Label encode Protocol\n",
        "le = LabelEncoder()\n",
        "df['Protocol'] = le.fit_transform(df['Protocol'])\n",
        "\n",
        "# Frequency encode IP\n",
        "freq_source = df['SourceIP'].value_counts()\n",
        "freq_dest = df['DestinationIP'].value_counts()\n",
        "df['SourceIP'] = df['SourceIP'].map(freq_source)\n",
        "df['DestinationIP'] = df['DestinationIP'].map(freq_dest)"
      ],
      "metadata": {
        "id": "wSW83qGYpY_q"
      },
      "execution_count": 10,
      "outputs": []
    },
    {
      "cell_type": "code",
      "source": [
        "X = df.drop('Label', axis=1)\n",
        "y = df['Label']\n",
        "\n",
        "# Spliting data\n",
        "x_train, x_test, y_train, y_test = train_test_split(X,y,test_size=0.2, random_state=42)\n",
        "# Reshaping the data to ensure it's 2D\n",
        "x_train_reshaped = x_train.values.reshape(-1, 1)\n",
        "x_test_reshaped = x_test.values.reshape(-1, 1)\n",
        "\n",
        "# Standardizing the features using StandardScaler\n",
        "scaler = StandardScaler()\n",
        "x_train_scaled = scaler.fit_transform(x_train_reshaped)\n",
        "x_test_scaled = scaler.transform(x_test_reshaped)"
      ],
      "metadata": {
        "id": "9QPIM3orbeuP"
      },
      "execution_count": 11,
      "outputs": []
    },
    {
      "cell_type": "code",
      "source": [
        "print('Banyak data x_train :',len(x_train))\n",
        "print('Banyak data x_test  :',len(x_test))\n",
        "print('Banyak data y_train :',len(y_train))\n",
        "print('Banyak data y_test  :',len(y_test))"
      ],
      "metadata": {
        "colab": {
          "base_uri": "https://localhost:8080/"
        },
        "id": "3V-p7WrLfUdZ",
        "outputId": "bca9dbee-7653-4108-9fcf-2d63ef6aa597"
      },
      "execution_count": 12,
      "outputs": [
        {
          "output_type": "stream",
          "name": "stdout",
          "text": [
            "Banyak data x_train : 1600\n",
            "Banyak data x_test  : 400\n",
            "Banyak data y_train : 1600\n",
            "Banyak data y_test  : 400\n"
          ]
        }
      ]
    },
    {
      "cell_type": "code",
      "source": [
        "# Training Data\n",
        "# --- Support Vector Machine ---\n",
        "svm = SVC(random_state=42)\n",
        "svm.fit(x_train, y_train)\n",
        "y_pred_svm = svm.predict(x_test)\n",
        "\n",
        "# Hitung metrik\n",
        "hasilSupportVectorMachine = accuracy_score(y_test, y_pred_svm)\n",
        "precision1 = precision_score(y_test, y_pred_svm)\n",
        "recall1 = recall_score(y_test, y_pred_svm)\n",
        "f1_1 = f1_score(y_test, y_pred_svm)\n",
        "\n",
        "# --- Multinomial Naive Bayes ---\n",
        "mnb = MultinomialNB()\n",
        "mnb.fit(x_train, y_train)\n",
        "y_pred_mnb = mnb.predict(x_test)\n",
        "\n",
        "# Hitung metrik\n",
        "hasilMultinomialNB = accuracy_score(y_test, y_pred_mnb)\n",
        "precision2 = precision_score(y_test, y_pred_mnb)\n",
        "recall2 = recall_score(y_test, y_pred_mnb)\n",
        "f1_2 = f1_score(y_test, y_pred_mnb)\n",
        "\n",
        "# --- Random Forest Classifier ---\n",
        "rfc = RandomForestClassifier(random_state=42)\n",
        "rfc.fit(x_train, y_train)\n",
        "y_pred_rfc = rfc.predict(x_test)\n",
        "\n",
        "# Hitung metrik\n",
        "hasilRandomForestClassifier = accuracy_score(y_test, y_pred_rfc)\n",
        "precision3 = precision_score(y_test, y_pred_rfc)\n",
        "recall3 = recall_score(y_test, y_pred_rfc)\n",
        "f1_3 = f1_score(y_test, y_pred_rfc)"
      ],
      "metadata": {
        "id": "OA2LFC_7fje5"
      },
      "execution_count": 13,
      "outputs": []
    },
    {
      "cell_type": "code",
      "source": [
        "model = {'Model':['Support Vector Machine',\n",
        "                  'Multinomial Naive Bayes',\n",
        "                  'Random Forest Classifier',\n",
        "                 ],\n",
        "         'AccuracyScore':[hasilSupportVectorMachine, hasilMultinomialNB, hasilRandomForestClassifier],\n",
        "         'Precision':[precision1, precision2, precision3],\n",
        "         'Recall':[recall1, recall2, recall3],\n",
        "         'F1-Score':[f1_1, f1_2, f1_3]\n",
        "         }\n",
        "model_df = pd.DataFrame(model)\n",
        "print(tabulate(model_df, headers='keys', tablefmt='fancy_grid'))"
      ],
      "metadata": {
        "colab": {
          "base_uri": "https://localhost:8080/"
        },
        "id": "GCMa_bxUfi6v",
        "outputId": "091c3328-7f4f-4ddb-b216-38a9620273fb"
      },
      "execution_count": 14,
      "outputs": [
        {
          "output_type": "stream",
          "name": "stdout",
          "text": [
            "╒════╤══════════════════════════╤═════════════════╤═════════════╤══════════╤════════════╕\n",
            "│    │ Model                    │   AccuracyScore │   Precision │   Recall │   F1-Score │\n",
            "╞════╪══════════════════════════╪═════════════════╪═════════════╪══════════╪════════════╡\n",
            "│  0 │ Support Vector Machine   │          0.5075 │    0.471698 │ 0.26178  │   0.3367   │\n",
            "├────┼──────────────────────────┼─────────────────┼─────────────┼──────────┼────────────┤\n",
            "│  1 │ Multinomial Naive Bayes  │          0.5075 │    0.485981 │ 0.544503 │   0.51358  │\n",
            "├────┼──────────────────────────┼─────────────────┼─────────────┼──────────┼────────────┤\n",
            "│  2 │ Random Forest Classifier │          0.5325 │    0.510638 │ 0.502618 │   0.506596 │\n",
            "╘════╧══════════════════════════╧═════════════════╧═════════════╧══════════╧════════════╛\n"
          ]
        }
      ]
    },
    {
      "cell_type": "code",
      "source": [
        "def predict_model(Duration, Protocol, SourceIP, DestinationIP, SourcePort, DestinationPort, PacketCount, ByteCount):\n",
        "    # Buat DataFrame input\n",
        "    data_input = pd.DataFrame({\n",
        "        'Duration': [Duration],\n",
        "        'Protocol': [Protocol],\n",
        "        'SourceIP': [SourceIP],\n",
        "        'DestinationIP': [DestinationIP],\n",
        "        'SourcePort': [SourcePort],\n",
        "        'DestinationPort': [DestinationPort],\n",
        "        'PacketCount': [PacketCount],\n",
        "        'ByteCount': [ByteCount]\n",
        "    })\n",
        "\n",
        "    # Preprocessing input\n",
        "    data_input['Protocol'] = le.transform(data_input['Protocol'])\n",
        "    data_input['SourceIP'] = data_input['SourceIP'].map(freq_source).fillna(0)\n",
        "    data_input['DestinationIP'] = data_input['DestinationIP'].map(freq_dest).fillna(0)\n",
        "\n",
        "    # Prediksi\n",
        "    pred_svm = svm.predict(data_input)[0]\n",
        "    pred_mnb = mnb.predict(data_input)[0]\n",
        "    pred_rfc = rfc.predict(data_input)[0]\n",
        "\n",
        "    print(f\"SVM Prediction: {pred_svm}\")\n",
        "    print(f\"MultinomialNB Prediction: {pred_mnb}\")\n",
        "    print(f\"RandomForest Prediction: {pred_rfc}\")"
      ],
      "metadata": {
        "id": "eEf1tTJYkLKs"
      },
      "execution_count": 15,
      "outputs": []
    },
    {
      "cell_type": "code",
      "source": [
        "from ipywidgets import interact, widgets\n",
        "\n",
        "interact(predict_model,\n",
        "         Duration=widgets.FloatText(value=24.0777, description='Duration:'),\n",
        "         Protocol=widgets.Dropdown(\n",
        "             options=list(le.classes_),   # semua label hasil fit\n",
        "             value=le.classes_[0],        # pakai nilai pertama yang pasti ada\n",
        "             description='Protocol:'\n",
        "         ),\n",
        "         SourceIP=widgets.Text(value='192.168.1.1', description='SourceIP:'),\n",
        "         DestinationIP=widgets.Text(value='10.0.0.1', description='DestinationIP:'),\n",
        "         SourcePort=widgets.IntText(value=8055, description='SourcePort:'),\n",
        "         DestinationPort=widgets.IntText(value=1, description='DestinationPort:'),\n",
        "         PacketCount=widgets.IntText(value=827, description='PacketCount:'),\n",
        "         ByteCount=widgets.IntText(value=198244, description='ByteCount:')\n",
        ")\n"
      ],
      "metadata": {
        "colab": {
          "base_uri": "https://localhost:8080/",
          "height": 429,
          "referenced_widgets": [
            "ee1e4fb9ffea446f840f3f31b72c61bc",
            "261f15aa7ecd4fe792bf07b8569c960d",
            "b2b058ae5302480a8a6e0ce4d74f0aa6",
            "9dd1036e92a74c01a56ddfbf0029ef07",
            "c3613af954f34c1595e05ad8bfe43f7c",
            "0ce723edf2d74c01873020bddf79c764",
            "79427bdbb8794be08f74363cb3eaf386",
            "366e66ad107f44d7b830e13ea09ccee6",
            "b0ccd2618ff84b2b8bb08467d7f791c5",
            "4e2d0aa7dbdf4c2ba90bcee0bbdea0ae",
            "9bb2d7e17e7e4db2a779c45a85a11641",
            "0d88c05257074693b952b8b6c2c9f743",
            "06180ec63b2c4398950fe14c0883067e",
            "4488340c161c4f7f93e7f333014b01be",
            "26c753bdc3724d5c80636871002dbe5e",
            "9ec07d034dd448c88b7ac44d68b4fde8",
            "584e924ab8f24974a958e438f9afa5d3",
            "a9f482ad3a0345a7b7665654cf4b5efe",
            "1f6ad5e828bb42fea694aa0d18accab5",
            "f80951c7d4ec4dca99b03b36fa955db3",
            "cc01376abaca4a878a3bc09805333987",
            "290e3e900ede4cb2a17503ae84d27368",
            "9004994dfd2948fc88378e4d2af3d046",
            "8d7b5c82e75f4af5b328b221d10236b3",
            "c64c87d5b2614895b6799633c4e8d749",
            "36e73c07128141f5891f5da64aa04c0f",
            "48864f74c4634172af860a3111c1edfb",
            "8091debac567404da556af99b698d333"
          ]
        },
        "id": "sv-v_1nVo2I8",
        "outputId": "7facaa3a-3d63-44db-b52b-e6f7c8d5b386"
      },
      "execution_count": 26,
      "outputs": [
        {
          "output_type": "display_data",
          "data": {
            "text/plain": [
              "interactive(children=(FloatText(value=24.0777, description='Duration:'), Dropdown(description='Protocol:', opt…"
            ],
            "application/vnd.jupyter.widget-view+json": {
              "version_major": 2,
              "version_minor": 0,
              "model_id": "ee1e4fb9ffea446f840f3f31b72c61bc"
            }
          },
          "metadata": {}
        },
        {
          "output_type": "execute_result",
          "data": {
            "text/plain": [
              "<function __main__.predict_model(Duration, Protocol, SourceIP, DestinationIP, SourcePort, DestinationPort, PacketCount, ByteCount)>"
            ],
            "text/html": [
              "<div style=\"max-width:800px; border: 1px solid var(--colab-border-color);\"><style>\n",
              "      pre.function-repr-contents {\n",
              "        overflow-x: auto;\n",
              "        padding: 8px 12px;\n",
              "        max-height: 500px;\n",
              "      }\n",
              "\n",
              "      pre.function-repr-contents.function-repr-contents-collapsed {\n",
              "        cursor: pointer;\n",
              "        max-height: 100px;\n",
              "      }\n",
              "    </style>\n",
              "    <pre style=\"white-space: initial; background:\n",
              "         var(--colab-secondary-surface-color); padding: 8px 12px;\n",
              "         border-bottom: 1px solid var(--colab-border-color);\"><b>predict_model</b><br/>def predict_model(Duration, Protocol, SourceIP, DestinationIP, SourcePort, DestinationPort, PacketCount, ByteCount)</pre><pre class=\"function-repr-contents function-repr-contents-collapsed\" style=\"\"><a class=\"filepath\" style=\"display:none\" href=\"#\">/tmp/ipython-input-2828381784.py</a>&lt;no docstring&gt;</pre></div>"
            ]
          },
          "metadata": {},
          "execution_count": 26
        }
      ]
    }
  ]
}