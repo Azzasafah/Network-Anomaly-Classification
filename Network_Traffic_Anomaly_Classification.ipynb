{
  "nbformat": 4,
  "nbformat_minor": 0,
  "metadata": {
    "colab": {
      "provenance": []
    },
    "kernelspec": {
      "name": "python3",
      "display_name": "Python 3"
    },
    "language_info": {
      "name": "python"
    },
    "widgets": {
      "application/vnd.jupyter.widget-state+json": {
        "973986070ec44106ac6f5e0b07db65a9": {
          "model_module": "@jupyter-widgets/controls",
          "model_name": "VBoxModel",
          "model_module_version": "1.5.0",
          "state": {
            "_dom_classes": [
              "widget-interact"
            ],
            "_model_module": "@jupyter-widgets/controls",
            "_model_module_version": "1.5.0",
            "_model_name": "VBoxModel",
            "_view_count": null,
            "_view_module": "@jupyter-widgets/controls",
            "_view_module_version": "1.5.0",
            "_view_name": "VBoxView",
            "box_style": "",
            "children": [
              "IPY_MODEL_b1bf44679b6a425f94c207eb31ccb3bf",
              "IPY_MODEL_644637f1d8e842e4a89e606df6531835",
              "IPY_MODEL_9e38fb6da6724222919ed0727d52fae1",
              "IPY_MODEL_c1646d2cc0e2408497b5adfdbe8c20b9",
              "IPY_MODEL_b2078ad6262946be871be4fb3d5bc892",
              "IPY_MODEL_b34182bd6cde4f4482ad86fc549b73c6",
              "IPY_MODEL_7e5f96d8c2ac4661a9a21ef1b24bfbda",
              "IPY_MODEL_f17a84fb5ea14d539b48fd3cbda1ea96",
              "IPY_MODEL_a3952ed7a8a247eda23f00f024ec90b7"
            ],
            "layout": "IPY_MODEL_3bc751b835594a5ba22b6e3cc35c66db"
          }
        },
        "b1bf44679b6a425f94c207eb31ccb3bf": {
          "model_module": "@jupyter-widgets/controls",
          "model_name": "FloatTextModel",
          "model_module_version": "1.5.0",
          "state": {
            "_dom_classes": [],
            "_model_module": "@jupyter-widgets/controls",
            "_model_module_version": "1.5.0",
            "_model_name": "FloatTextModel",
            "_view_count": null,
            "_view_module": "@jupyter-widgets/controls",
            "_view_module_version": "1.5.0",
            "_view_name": "FloatTextView",
            "continuous_update": false,
            "description": "Duration:",
            "description_tooltip": null,
            "disabled": false,
            "layout": "IPY_MODEL_a95bdf372ff047ed872bdb475c1393d4",
            "step": null,
            "style": "IPY_MODEL_5773b0b029f44391af5753a297bcd0a7",
            "value": 24.0777
          }
        },
        "644637f1d8e842e4a89e606df6531835": {
          "model_module": "@jupyter-widgets/controls",
          "model_name": "DropdownModel",
          "model_module_version": "1.5.0",
          "state": {
            "_dom_classes": [],
            "_model_module": "@jupyter-widgets/controls",
            "_model_module_version": "1.5.0",
            "_model_name": "DropdownModel",
            "_options_labels": [
              "ICMP",
              "TCP",
              "UDP"
            ],
            "_view_count": null,
            "_view_module": "@jupyter-widgets/controls",
            "_view_module_version": "1.5.0",
            "_view_name": "DropdownView",
            "description": "Protocol:",
            "description_tooltip": null,
            "disabled": false,
            "index": 1,
            "layout": "IPY_MODEL_c63f3d3221d94f57b36b55f364f7bc97",
            "style": "IPY_MODEL_b53b7c954ca340b69427b1a0df4e778c"
          }
        },
        "9e38fb6da6724222919ed0727d52fae1": {
          "model_module": "@jupyter-widgets/controls",
          "model_name": "TextModel",
          "model_module_version": "1.5.0",
          "state": {
            "_dom_classes": [],
            "_model_module": "@jupyter-widgets/controls",
            "_model_module_version": "1.5.0",
            "_model_name": "TextModel",
            "_view_count": null,
            "_view_module": "@jupyter-widgets/controls",
            "_view_module_version": "1.5.0",
            "_view_name": "TextView",
            "continuous_update": true,
            "description": "SourceIP:",
            "description_tooltip": null,
            "disabled": false,
            "layout": "IPY_MODEL_400ab24fce66449e965a12e6bc66aed0",
            "placeholder": "​",
            "style": "IPY_MODEL_717a725082b8460da3034eef6ad8575d",
            "value": "192.168.1.1"
          }
        },
        "c1646d2cc0e2408497b5adfdbe8c20b9": {
          "model_module": "@jupyter-widgets/controls",
          "model_name": "TextModel",
          "model_module_version": "1.5.0",
          "state": {
            "_dom_classes": [],
            "_model_module": "@jupyter-widgets/controls",
            "_model_module_version": "1.5.0",
            "_model_name": "TextModel",
            "_view_count": null,
            "_view_module": "@jupyter-widgets/controls",
            "_view_module_version": "1.5.0",
            "_view_name": "TextView",
            "continuous_update": true,
            "description": "DestinationIP:",
            "description_tooltip": null,
            "disabled": false,
            "layout": "IPY_MODEL_5ac77626b03b4cc9b5c9030dfa171a70",
            "placeholder": "​",
            "style": "IPY_MODEL_267bdbc2cbff4120ae8098e1ca965b13",
            "value": "10.0.0.1"
          }
        },
        "b2078ad6262946be871be4fb3d5bc892": {
          "model_module": "@jupyter-widgets/controls",
          "model_name": "IntTextModel",
          "model_module_version": "1.5.0",
          "state": {
            "_dom_classes": [],
            "_model_module": "@jupyter-widgets/controls",
            "_model_module_version": "1.5.0",
            "_model_name": "IntTextModel",
            "_view_count": null,
            "_view_module": "@jupyter-widgets/controls",
            "_view_module_version": "1.5.0",
            "_view_name": "IntTextView",
            "continuous_update": false,
            "description": "SourcePort:",
            "description_tooltip": null,
            "disabled": false,
            "layout": "IPY_MODEL_42e240c3ec124d09b0818b490e8db17b",
            "step": 1,
            "style": "IPY_MODEL_8cd7fcf2779042ffbef61ff4e5036a5c",
            "value": 8055
          }
        },
        "b34182bd6cde4f4482ad86fc549b73c6": {
          "model_module": "@jupyter-widgets/controls",
          "model_name": "IntTextModel",
          "model_module_version": "1.5.0",
          "state": {
            "_dom_classes": [],
            "_model_module": "@jupyter-widgets/controls",
            "_model_module_version": "1.5.0",
            "_model_name": "IntTextModel",
            "_view_count": null,
            "_view_module": "@jupyter-widgets/controls",
            "_view_module_version": "1.5.0",
            "_view_name": "IntTextView",
            "continuous_update": false,
            "description": "DestinationPort:",
            "description_tooltip": null,
            "disabled": false,
            "layout": "IPY_MODEL_a4a07ca1d833450d87617d657af3a2f8",
            "step": 1,
            "style": "IPY_MODEL_9a8491fdb6da4f8983210cb004698534",
            "value": 1
          }
        },
        "7e5f96d8c2ac4661a9a21ef1b24bfbda": {
          "model_module": "@jupyter-widgets/controls",
          "model_name": "IntTextModel",
          "model_module_version": "1.5.0",
          "state": {
            "_dom_classes": [],
            "_model_module": "@jupyter-widgets/controls",
            "_model_module_version": "1.5.0",
            "_model_name": "IntTextModel",
            "_view_count": null,
            "_view_module": "@jupyter-widgets/controls",
            "_view_module_version": "1.5.0",
            "_view_name": "IntTextView",
            "continuous_update": false,
            "description": "PacketCount:",
            "description_tooltip": null,
            "disabled": false,
            "layout": "IPY_MODEL_8cc6f38b2aff4a1292b84b596f00c2ed",
            "step": 1,
            "style": "IPY_MODEL_b823fc4514344489adff376df037ba7c",
            "value": 827
          }
        },
        "f17a84fb5ea14d539b48fd3cbda1ea96": {
          "model_module": "@jupyter-widgets/controls",
          "model_name": "IntTextModel",
          "model_module_version": "1.5.0",
          "state": {
            "_dom_classes": [],
            "_model_module": "@jupyter-widgets/controls",
            "_model_module_version": "1.5.0",
            "_model_name": "IntTextModel",
            "_view_count": null,
            "_view_module": "@jupyter-widgets/controls",
            "_view_module_version": "1.5.0",
            "_view_name": "IntTextView",
            "continuous_update": false,
            "description": "ByteCount:",
            "description_tooltip": null,
            "disabled": false,
            "layout": "IPY_MODEL_76c5176d8f3b4e3b97925d01fe64279e",
            "step": 1,
            "style": "IPY_MODEL_7bf972e36dc8424db94c1185ef677c3c",
            "value": 198244
          }
        },
        "a3952ed7a8a247eda23f00f024ec90b7": {
          "model_module": "@jupyter-widgets/output",
          "model_name": "OutputModel",
          "model_module_version": "1.0.0",
          "state": {
            "_dom_classes": [],
            "_model_module": "@jupyter-widgets/output",
            "_model_module_version": "1.0.0",
            "_model_name": "OutputModel",
            "_view_count": null,
            "_view_module": "@jupyter-widgets/output",
            "_view_module_version": "1.0.0",
            "_view_name": "OutputView",
            "layout": "IPY_MODEL_a8c36878ebcd48a396e212a85150f73e",
            "msg_id": "",
            "outputs": [
              {
                "output_type": "stream",
                "name": "stdout",
                "text": [
                  "SVM Prediction: 1\n",
                  "MultinomialNB Prediction: 0\n",
                  "RandomForest Prediction: 0\n"
                ]
              }
            ]
          }
        },
        "3bc751b835594a5ba22b6e3cc35c66db": {
          "model_module": "@jupyter-widgets/base",
          "model_name": "LayoutModel",
          "model_module_version": "1.2.0",
          "state": {
            "_model_module": "@jupyter-widgets/base",
            "_model_module_version": "1.2.0",
            "_model_name": "LayoutModel",
            "_view_count": null,
            "_view_module": "@jupyter-widgets/base",
            "_view_module_version": "1.2.0",
            "_view_name": "LayoutView",
            "align_content": null,
            "align_items": null,
            "align_self": null,
            "border": null,
            "bottom": null,
            "display": null,
            "flex": null,
            "flex_flow": null,
            "grid_area": null,
            "grid_auto_columns": null,
            "grid_auto_flow": null,
            "grid_auto_rows": null,
            "grid_column": null,
            "grid_gap": null,
            "grid_row": null,
            "grid_template_areas": null,
            "grid_template_columns": null,
            "grid_template_rows": null,
            "height": null,
            "justify_content": null,
            "justify_items": null,
            "left": null,
            "margin": null,
            "max_height": null,
            "max_width": null,
            "min_height": null,
            "min_width": null,
            "object_fit": null,
            "object_position": null,
            "order": null,
            "overflow": null,
            "overflow_x": null,
            "overflow_y": null,
            "padding": null,
            "right": null,
            "top": null,
            "visibility": null,
            "width": null
          }
        },
        "a95bdf372ff047ed872bdb475c1393d4": {
          "model_module": "@jupyter-widgets/base",
          "model_name": "LayoutModel",
          "model_module_version": "1.2.0",
          "state": {
            "_model_module": "@jupyter-widgets/base",
            "_model_module_version": "1.2.0",
            "_model_name": "LayoutModel",
            "_view_count": null,
            "_view_module": "@jupyter-widgets/base",
            "_view_module_version": "1.2.0",
            "_view_name": "LayoutView",
            "align_content": null,
            "align_items": null,
            "align_self": null,
            "border": null,
            "bottom": null,
            "display": null,
            "flex": null,
            "flex_flow": null,
            "grid_area": null,
            "grid_auto_columns": null,
            "grid_auto_flow": null,
            "grid_auto_rows": null,
            "grid_column": null,
            "grid_gap": null,
            "grid_row": null,
            "grid_template_areas": null,
            "grid_template_columns": null,
            "grid_template_rows": null,
            "height": null,
            "justify_content": null,
            "justify_items": null,
            "left": null,
            "margin": null,
            "max_height": null,
            "max_width": null,
            "min_height": null,
            "min_width": null,
            "object_fit": null,
            "object_position": null,
            "order": null,
            "overflow": null,
            "overflow_x": null,
            "overflow_y": null,
            "padding": null,
            "right": null,
            "top": null,
            "visibility": null,
            "width": null
          }
        },
        "5773b0b029f44391af5753a297bcd0a7": {
          "model_module": "@jupyter-widgets/controls",
          "model_name": "DescriptionStyleModel",
          "model_module_version": "1.5.0",
          "state": {
            "_model_module": "@jupyter-widgets/controls",
            "_model_module_version": "1.5.0",
            "_model_name": "DescriptionStyleModel",
            "_view_count": null,
            "_view_module": "@jupyter-widgets/base",
            "_view_module_version": "1.2.0",
            "_view_name": "StyleView",
            "description_width": ""
          }
        },
        "c63f3d3221d94f57b36b55f364f7bc97": {
          "model_module": "@jupyter-widgets/base",
          "model_name": "LayoutModel",
          "model_module_version": "1.2.0",
          "state": {
            "_model_module": "@jupyter-widgets/base",
            "_model_module_version": "1.2.0",
            "_model_name": "LayoutModel",
            "_view_count": null,
            "_view_module": "@jupyter-widgets/base",
            "_view_module_version": "1.2.0",
            "_view_name": "LayoutView",
            "align_content": null,
            "align_items": null,
            "align_self": null,
            "border": null,
            "bottom": null,
            "display": null,
            "flex": null,
            "flex_flow": null,
            "grid_area": null,
            "grid_auto_columns": null,
            "grid_auto_flow": null,
            "grid_auto_rows": null,
            "grid_column": null,
            "grid_gap": null,
            "grid_row": null,
            "grid_template_areas": null,
            "grid_template_columns": null,
            "grid_template_rows": null,
            "height": null,
            "justify_content": null,
            "justify_items": null,
            "left": null,
            "margin": null,
            "max_height": null,
            "max_width": null,
            "min_height": null,
            "min_width": null,
            "object_fit": null,
            "object_position": null,
            "order": null,
            "overflow": null,
            "overflow_x": null,
            "overflow_y": null,
            "padding": null,
            "right": null,
            "top": null,
            "visibility": null,
            "width": null
          }
        },
        "b53b7c954ca340b69427b1a0df4e778c": {
          "model_module": "@jupyter-widgets/controls",
          "model_name": "DescriptionStyleModel",
          "model_module_version": "1.5.0",
          "state": {
            "_model_module": "@jupyter-widgets/controls",
            "_model_module_version": "1.5.0",
            "_model_name": "DescriptionStyleModel",
            "_view_count": null,
            "_view_module": "@jupyter-widgets/base",
            "_view_module_version": "1.2.0",
            "_view_name": "StyleView",
            "description_width": ""
          }
        },
        "400ab24fce66449e965a12e6bc66aed0": {
          "model_module": "@jupyter-widgets/base",
          "model_name": "LayoutModel",
          "model_module_version": "1.2.0",
          "state": {
            "_model_module": "@jupyter-widgets/base",
            "_model_module_version": "1.2.0",
            "_model_name": "LayoutModel",
            "_view_count": null,
            "_view_module": "@jupyter-widgets/base",
            "_view_module_version": "1.2.0",
            "_view_name": "LayoutView",
            "align_content": null,
            "align_items": null,
            "align_self": null,
            "border": null,
            "bottom": null,
            "display": null,
            "flex": null,
            "flex_flow": null,
            "grid_area": null,
            "grid_auto_columns": null,
            "grid_auto_flow": null,
            "grid_auto_rows": null,
            "grid_column": null,
            "grid_gap": null,
            "grid_row": null,
            "grid_template_areas": null,
            "grid_template_columns": null,
            "grid_template_rows": null,
            "height": null,
            "justify_content": null,
            "justify_items": null,
            "left": null,
            "margin": null,
            "max_height": null,
            "max_width": null,
            "min_height": null,
            "min_width": null,
            "object_fit": null,
            "object_position": null,
            "order": null,
            "overflow": null,
            "overflow_x": null,
            "overflow_y": null,
            "padding": null,
            "right": null,
            "top": null,
            "visibility": null,
            "width": null
          }
        },
        "717a725082b8460da3034eef6ad8575d": {
          "model_module": "@jupyter-widgets/controls",
          "model_name": "DescriptionStyleModel",
          "model_module_version": "1.5.0",
          "state": {
            "_model_module": "@jupyter-widgets/controls",
            "_model_module_version": "1.5.0",
            "_model_name": "DescriptionStyleModel",
            "_view_count": null,
            "_view_module": "@jupyter-widgets/base",
            "_view_module_version": "1.2.0",
            "_view_name": "StyleView",
            "description_width": ""
          }
        },
        "5ac77626b03b4cc9b5c9030dfa171a70": {
          "model_module": "@jupyter-widgets/base",
          "model_name": "LayoutModel",
          "model_module_version": "1.2.0",
          "state": {
            "_model_module": "@jupyter-widgets/base",
            "_model_module_version": "1.2.0",
            "_model_name": "LayoutModel",
            "_view_count": null,
            "_view_module": "@jupyter-widgets/base",
            "_view_module_version": "1.2.0",
            "_view_name": "LayoutView",
            "align_content": null,
            "align_items": null,
            "align_self": null,
            "border": null,
            "bottom": null,
            "display": null,
            "flex": null,
            "flex_flow": null,
            "grid_area": null,
            "grid_auto_columns": null,
            "grid_auto_flow": null,
            "grid_auto_rows": null,
            "grid_column": null,
            "grid_gap": null,
            "grid_row": null,
            "grid_template_areas": null,
            "grid_template_columns": null,
            "grid_template_rows": null,
            "height": null,
            "justify_content": null,
            "justify_items": null,
            "left": null,
            "margin": null,
            "max_height": null,
            "max_width": null,
            "min_height": null,
            "min_width": null,
            "object_fit": null,
            "object_position": null,
            "order": null,
            "overflow": null,
            "overflow_x": null,
            "overflow_y": null,
            "padding": null,
            "right": null,
            "top": null,
            "visibility": null,
            "width": null
          }
        },
        "267bdbc2cbff4120ae8098e1ca965b13": {
          "model_module": "@jupyter-widgets/controls",
          "model_name": "DescriptionStyleModel",
          "model_module_version": "1.5.0",
          "state": {
            "_model_module": "@jupyter-widgets/controls",
            "_model_module_version": "1.5.0",
            "_model_name": "DescriptionStyleModel",
            "_view_count": null,
            "_view_module": "@jupyter-widgets/base",
            "_view_module_version": "1.2.0",
            "_view_name": "StyleView",
            "description_width": ""
          }
        },
        "42e240c3ec124d09b0818b490e8db17b": {
          "model_module": "@jupyter-widgets/base",
          "model_name": "LayoutModel",
          "model_module_version": "1.2.0",
          "state": {
            "_model_module": "@jupyter-widgets/base",
            "_model_module_version": "1.2.0",
            "_model_name": "LayoutModel",
            "_view_count": null,
            "_view_module": "@jupyter-widgets/base",
            "_view_module_version": "1.2.0",
            "_view_name": "LayoutView",
            "align_content": null,
            "align_items": null,
            "align_self": null,
            "border": null,
            "bottom": null,
            "display": null,
            "flex": null,
            "flex_flow": null,
            "grid_area": null,
            "grid_auto_columns": null,
            "grid_auto_flow": null,
            "grid_auto_rows": null,
            "grid_column": null,
            "grid_gap": null,
            "grid_row": null,
            "grid_template_areas": null,
            "grid_template_columns": null,
            "grid_template_rows": null,
            "height": null,
            "justify_content": null,
            "justify_items": null,
            "left": null,
            "margin": null,
            "max_height": null,
            "max_width": null,
            "min_height": null,
            "min_width": null,
            "object_fit": null,
            "object_position": null,
            "order": null,
            "overflow": null,
            "overflow_x": null,
            "overflow_y": null,
            "padding": null,
            "right": null,
            "top": null,
            "visibility": null,
            "width": null
          }
        },
        "8cd7fcf2779042ffbef61ff4e5036a5c": {
          "model_module": "@jupyter-widgets/controls",
          "model_name": "DescriptionStyleModel",
          "model_module_version": "1.5.0",
          "state": {
            "_model_module": "@jupyter-widgets/controls",
            "_model_module_version": "1.5.0",
            "_model_name": "DescriptionStyleModel",
            "_view_count": null,
            "_view_module": "@jupyter-widgets/base",
            "_view_module_version": "1.2.0",
            "_view_name": "StyleView",
            "description_width": ""
          }
        },
        "a4a07ca1d833450d87617d657af3a2f8": {
          "model_module": "@jupyter-widgets/base",
          "model_name": "LayoutModel",
          "model_module_version": "1.2.0",
          "state": {
            "_model_module": "@jupyter-widgets/base",
            "_model_module_version": "1.2.0",
            "_model_name": "LayoutModel",
            "_view_count": null,
            "_view_module": "@jupyter-widgets/base",
            "_view_module_version": "1.2.0",
            "_view_name": "LayoutView",
            "align_content": null,
            "align_items": null,
            "align_self": null,
            "border": null,
            "bottom": null,
            "display": null,
            "flex": null,
            "flex_flow": null,
            "grid_area": null,
            "grid_auto_columns": null,
            "grid_auto_flow": null,
            "grid_auto_rows": null,
            "grid_column": null,
            "grid_gap": null,
            "grid_row": null,
            "grid_template_areas": null,
            "grid_template_columns": null,
            "grid_template_rows": null,
            "height": null,
            "justify_content": null,
            "justify_items": null,
            "left": null,
            "margin": null,
            "max_height": null,
            "max_width": null,
            "min_height": null,
            "min_width": null,
            "object_fit": null,
            "object_position": null,
            "order": null,
            "overflow": null,
            "overflow_x": null,
            "overflow_y": null,
            "padding": null,
            "right": null,
            "top": null,
            "visibility": null,
            "width": null
          }
        },
        "9a8491fdb6da4f8983210cb004698534": {
          "model_module": "@jupyter-widgets/controls",
          "model_name": "DescriptionStyleModel",
          "model_module_version": "1.5.0",
          "state": {
            "_model_module": "@jupyter-widgets/controls",
            "_model_module_version": "1.5.0",
            "_model_name": "DescriptionStyleModel",
            "_view_count": null,
            "_view_module": "@jupyter-widgets/base",
            "_view_module_version": "1.2.0",
            "_view_name": "StyleView",
            "description_width": ""
          }
        },
        "8cc6f38b2aff4a1292b84b596f00c2ed": {
          "model_module": "@jupyter-widgets/base",
          "model_name": "LayoutModel",
          "model_module_version": "1.2.0",
          "state": {
            "_model_module": "@jupyter-widgets/base",
            "_model_module_version": "1.2.0",
            "_model_name": "LayoutModel",
            "_view_count": null,
            "_view_module": "@jupyter-widgets/base",
            "_view_module_version": "1.2.0",
            "_view_name": "LayoutView",
            "align_content": null,
            "align_items": null,
            "align_self": null,
            "border": null,
            "bottom": null,
            "display": null,
            "flex": null,
            "flex_flow": null,
            "grid_area": null,
            "grid_auto_columns": null,
            "grid_auto_flow": null,
            "grid_auto_rows": null,
            "grid_column": null,
            "grid_gap": null,
            "grid_row": null,
            "grid_template_areas": null,
            "grid_template_columns": null,
            "grid_template_rows": null,
            "height": null,
            "justify_content": null,
            "justify_items": null,
            "left": null,
            "margin": null,
            "max_height": null,
            "max_width": null,
            "min_height": null,
            "min_width": null,
            "object_fit": null,
            "object_position": null,
            "order": null,
            "overflow": null,
            "overflow_x": null,
            "overflow_y": null,
            "padding": null,
            "right": null,
            "top": null,
            "visibility": null,
            "width": null
          }
        },
        "b823fc4514344489adff376df037ba7c": {
          "model_module": "@jupyter-widgets/controls",
          "model_name": "DescriptionStyleModel",
          "model_module_version": "1.5.0",
          "state": {
            "_model_module": "@jupyter-widgets/controls",
            "_model_module_version": "1.5.0",
            "_model_name": "DescriptionStyleModel",
            "_view_count": null,
            "_view_module": "@jupyter-widgets/base",
            "_view_module_version": "1.2.0",
            "_view_name": "StyleView",
            "description_width": ""
          }
        },
        "76c5176d8f3b4e3b97925d01fe64279e": {
          "model_module": "@jupyter-widgets/base",
          "model_name": "LayoutModel",
          "model_module_version": "1.2.0",
          "state": {
            "_model_module": "@jupyter-widgets/base",
            "_model_module_version": "1.2.0",
            "_model_name": "LayoutModel",
            "_view_count": null,
            "_view_module": "@jupyter-widgets/base",
            "_view_module_version": "1.2.0",
            "_view_name": "LayoutView",
            "align_content": null,
            "align_items": null,
            "align_self": null,
            "border": null,
            "bottom": null,
            "display": null,
            "flex": null,
            "flex_flow": null,
            "grid_area": null,
            "grid_auto_columns": null,
            "grid_auto_flow": null,
            "grid_auto_rows": null,
            "grid_column": null,
            "grid_gap": null,
            "grid_row": null,
            "grid_template_areas": null,
            "grid_template_columns": null,
            "grid_template_rows": null,
            "height": null,
            "justify_content": null,
            "justify_items": null,
            "left": null,
            "margin": null,
            "max_height": null,
            "max_width": null,
            "min_height": null,
            "min_width": null,
            "object_fit": null,
            "object_position": null,
            "order": null,
            "overflow": null,
            "overflow_x": null,
            "overflow_y": null,
            "padding": null,
            "right": null,
            "top": null,
            "visibility": null,
            "width": null
          }
        },
        "7bf972e36dc8424db94c1185ef677c3c": {
          "model_module": "@jupyter-widgets/controls",
          "model_name": "DescriptionStyleModel",
          "model_module_version": "1.5.0",
          "state": {
            "_model_module": "@jupyter-widgets/controls",
            "_model_module_version": "1.5.0",
            "_model_name": "DescriptionStyleModel",
            "_view_count": null,
            "_view_module": "@jupyter-widgets/base",
            "_view_module_version": "1.2.0",
            "_view_name": "StyleView",
            "description_width": ""
          }
        },
        "a8c36878ebcd48a396e212a85150f73e": {
          "model_module": "@jupyter-widgets/base",
          "model_name": "LayoutModel",
          "model_module_version": "1.2.0",
          "state": {
            "_model_module": "@jupyter-widgets/base",
            "_model_module_version": "1.2.0",
            "_model_name": "LayoutModel",
            "_view_count": null,
            "_view_module": "@jupyter-widgets/base",
            "_view_module_version": "1.2.0",
            "_view_name": "LayoutView",
            "align_content": null,
            "align_items": null,
            "align_self": null,
            "border": null,
            "bottom": null,
            "display": null,
            "flex": null,
            "flex_flow": null,
            "grid_area": null,
            "grid_auto_columns": null,
            "grid_auto_flow": null,
            "grid_auto_rows": null,
            "grid_column": null,
            "grid_gap": null,
            "grid_row": null,
            "grid_template_areas": null,
            "grid_template_columns": null,
            "grid_template_rows": null,
            "height": null,
            "justify_content": null,
            "justify_items": null,
            "left": null,
            "margin": null,
            "max_height": null,
            "max_width": null,
            "min_height": null,
            "min_width": null,
            "object_fit": null,
            "object_position": null,
            "order": null,
            "overflow": null,
            "overflow_x": null,
            "overflow_y": null,
            "padding": null,
            "right": null,
            "top": null,
            "visibility": null,
            "width": null
          }
        }
      }
    }
  },
  "cells": [
    {
      "cell_type": "code",
      "execution_count": 1,
      "metadata": {
        "id": "YaSY_5n8LSB_"
      },
      "outputs": [],
      "source": [
        "import pandas as pd\n",
        "import numpy as np\n",
        "import kagglehub\n",
        "import os\n",
        "import matplotlib.pyplot as plt\n",
        "from tabulate import tabulate\n",
        "from sklearn.preprocessing import StandardScaler, LabelEncoder\n",
        "from sklearn.model_selection import train_test_split\n",
        "from sklearn.metrics import accuracy_score, precision_score, recall_score, f1_score\n",
        "from sklearn.svm import SVC\n",
        "from sklearn.naive_bayes import MultinomialNB\n",
        "from sklearn.ensemble import RandomForestClassifier"
      ]
    },
    {
      "cell_type": "code",
      "source": [
        "import kagglehub\n",
        "\n",
        "# Download latest version\n",
        "path = kagglehub.dataset_download(\"mohdzia356/network-traffic-data-for-intrusion-detection\")\n",
        "\n",
        "print(\"Path to dataset files:\", path)\n",
        "print(os.listdir(path))\n",
        "file_path = os.path.join(path,'network_traffic_data.csv')"
      ],
      "metadata": {
        "colab": {
          "base_uri": "https://localhost:8080/"
        },
        "id": "BubsTnndTnwO",
        "outputId": "e2c2e317-07bf-40a4-8837-5c8df2669264"
      },
      "execution_count": 2,
      "outputs": [
        {
          "output_type": "stream",
          "name": "stdout",
          "text": [
            "Using Colab cache for faster access to the 'network-traffic-data-for-intrusion-detection' dataset.\n",
            "Path to dataset files: /kaggle/input/network-traffic-data-for-intrusion-detection\n",
            "['network_traffic_data.csv']\n"
          ]
        }
      ]
    },
    {
      "cell_type": "code",
      "source": [
        "df = pd.read_csv(file_path)\n",
        "print(tabulate(df.head(5), headers='keys', tablefmt='fancy_grid'))"
      ],
      "metadata": {
        "colab": {
          "base_uri": "https://localhost:8080/"
        },
        "id": "2h5eqnxpUd97",
        "outputId": "57bf3d3a-bec3-486e-d9fa-61f1d236efd5"
      },
      "execution_count": 3,
      "outputs": [
        {
          "output_type": "stream",
          "name": "stdout",
          "text": [
            "╒════╤════════════╤════════════╤═══════════════╤═════════════════╤══════════════╤═══════════════════╤═══════════════╤═════════════╤═════════╕\n",
            "│    │   Duration │ Protocol   │ SourceIP      │ DestinationIP   │   SourcePort │   DestinationPort │   PacketCount │   ByteCount │ Label   │\n",
            "╞════╪════════════╪════════════╪═══════════════╪═════════════════╪══════════════╪═══════════════════╪═══════════════╪═════════════╪═════════╡\n",
            "│  0 │    24.0777 │ TCP        │ 192.168.1.239 │ 192.168.1.234   │         8055 │                 1 │           827 │      198244 │ Attack  │\n",
            "├────┼────────────┼────────────┼───────────────┼─────────────────┼──────────────┼───────────────────┼───────────────┼─────────────┼─────────┤\n",
            "│  1 │    97.2524 │ ICMP       │ 192.168.1.176 │ 192.168.1.82    │        63174 │               687 │           673 │     1202973 │ Normal  │\n",
            "├────┼────────────┼────────────┼───────────────┼─────────────────┼──────────────┼───────────────────┼───────────────┼─────────────┼─────────┤\n",
            "│  2 │    85.8427 │ TCP        │ 192.168.1.120 │ 192.168.1.113   │        30873 │               570 │           319 │      984671 │ Attack  │\n",
            "├────┼────────────┼────────────┼───────────────┼─────────────────┼──────────────┼───────────────────┼───────────────┼─────────────┼─────────┤\n",
            "│  3 │    79.197  │ UDP        │ 192.168.1.212 │ 192.168.1.140   │         4410 │               683 │           375 │       36284 │ Normal  │\n",
            "├────┼────────────┼────────────┼───────────────┼─────────────────┼──────────────┼───────────────────┼───────────────┼─────────────┼─────────┤\n",
            "│  4 │    34.928  │ TCP        │ 192.168.1.17  │ 192.168.1.223   │         4702 │               989 │           465 │      817463 │ Normal  │\n",
            "╘════╧════════════╧════════════╧═══════════════╧═════════════════╧══════════════╧═══════════════════╧═══════════════╧═════════════╧═════════╛\n"
          ]
        }
      ]
    },
    {
      "cell_type": "code",
      "source": [
        "protocol_by_label = df.groupby('Label')['Protocol'].value_counts().reset_index()\n",
        "\n",
        "# Menampilkan hasilnya\n",
        "print(\"Frekuensi Protokol per Label (Sebelum Encoding):\")\n",
        "print(tabulate(protocol_by_label, headers='keys', tablefmt='fancy_grid'))"
      ],
      "metadata": {
        "colab": {
          "base_uri": "https://localhost:8080/"
        },
        "id": "9y2XUA0fiWKZ",
        "outputId": "3833e444-8802-4958-ef24-616a50f71ad7"
      },
      "execution_count": 4,
      "outputs": [
        {
          "output_type": "stream",
          "name": "stdout",
          "text": [
            "Frekuensi Protokol per Label (Sebelum Encoding):\n",
            "╒════╤═════════╤════════════╤═════════╕\n",
            "│    │ Label   │ Protocol   │   count │\n",
            "╞════╪═════════╪════════════╪═════════╡\n",
            "│  0 │ Attack  │ TCP        │     374 │\n",
            "├────┼─────────┼────────────┼─────────┤\n",
            "│  1 │ Attack  │ UDP        │     329 │\n",
            "├────┼─────────┼────────────┼─────────┤\n",
            "│  2 │ Attack  │ ICMP       │     319 │\n",
            "├────┼─────────┼────────────┼─────────┤\n",
            "│  3 │ Normal  │ ICMP       │     339 │\n",
            "├────┼─────────┼────────────┼─────────┤\n",
            "│  4 │ Normal  │ UDP        │     323 │\n",
            "├────┼─────────┼────────────┼─────────┤\n",
            "│  5 │ Normal  │ TCP        │     316 │\n",
            "╘════╧═════════╧════════════╧═════════╛\n"
          ]
        }
      ]
    },
    {
      "cell_type": "code",
      "source": [
        "total_label = df['Label'].value_counts().reset_index()\n",
        "total_label.columns = ['Label', 'Count']\n",
        "from tabulate import tabulate\n",
        "print(tabulate(total_label, headers='keys', tablefmt='fancy_grid'))\n"
      ],
      "metadata": {
        "colab": {
          "base_uri": "https://localhost:8080/"
        },
        "id": "l6H85BLiih1W",
        "outputId": "d1b3fafe-c62c-4435-8e15-d43417ba4725"
      },
      "execution_count": 5,
      "outputs": [
        {
          "output_type": "stream",
          "name": "stdout",
          "text": [
            "╒════╤═════════╤═════════╕\n",
            "│    │ Label   │   Count │\n",
            "╞════╪═════════╪═════════╡\n",
            "│  0 │ Attack  │    1022 │\n",
            "├────┼─────────┼─────────┤\n",
            "│  1 │ Normal  │     978 │\n",
            "╘════╧═════════╧═════════╛\n"
          ]
        }
      ]
    },
    {
      "cell_type": "code",
      "source": [
        "label_encoders = {}\n",
        "for column in df.select_dtypes(include=['object']).columns:\n",
        "    le = LabelEncoder()\n",
        "    df[column] = le.fit_transform(df[column])\n",
        "    label_encoders[column] = le\n",
        "\n",
        "print(tabulate(df.head(5), headers='keys', tablefmt='fancy_grid'))"
      ],
      "metadata": {
        "colab": {
          "base_uri": "https://localhost:8080/"
        },
        "id": "D2F5f6_ZUtV1",
        "outputId": "9f02b003-6703-4bb3-e953-d4bbf92463c9"
      },
      "execution_count": 6,
      "outputs": [
        {
          "output_type": "stream",
          "name": "stdout",
          "text": [
            "╒════╤════════════╤════════════╤════════════╤═════════════════╤══════════════╤═══════════════════╤═══════════════╤══════════════════╤═════════╕\n",
            "│    │   Duration │   Protocol │   SourceIP │   DestinationIP │   SourcePort │   DestinationPort │   PacketCount │        ByteCount │   Label │\n",
            "╞════╪════════════╪════════════╪════════════╪═════════════════╪══════════════╪═══════════════════╪═══════════════╪══════════════════╪═════════╡\n",
            "│  0 │    24.0777 │          1 │        155 │             150 │         8055 │                 1 │           827 │ 198244           │       0 │\n",
            "├────┼────────────┼────────────┼────────────┼─────────────────┼──────────────┼───────────────────┼───────────────┼──────────────────┼─────────┤\n",
            "│  1 │    97.2524 │          0 │         85 │             236 │        63174 │               687 │           673 │      1.20297e+06 │       1 │\n",
            "├────┼────────────┼────────────┼────────────┼─────────────────┼──────────────┼───────────────────┼───────────────┼──────────────────┼─────────┤\n",
            "│  2 │    85.8427 │          1 │         24 │              16 │        30873 │               570 │           319 │ 984671           │       0 │\n",
            "├────┼────────────┼────────────┼────────────┼─────────────────┼──────────────┼───────────────────┼───────────────┼──────────────────┼─────────┤\n",
            "│  3 │    79.197  │          2 │        126 │              46 │         4410 │               683 │           375 │  36284           │       1 │\n",
            "├────┼────────────┼────────────┼────────────┼─────────────────┼──────────────┼───────────────────┼───────────────┼──────────────────┼─────────┤\n",
            "│  4 │    34.928  │          1 │         78 │             138 │         4702 │               989 │           465 │ 817463           │       1 │\n",
            "╘════╧════════════╧════════════╧════════════╧═════════════════╧══════════════╧═══════════════════╧═══════════════╧══════════════════╧═════════╛\n"
          ]
        }
      ]
    },
    {
      "cell_type": "code",
      "source": [
        "datatype = df.dtypes.reset_index()\n",
        "datatype.columns = ['column_name', 'column_type']\n",
        "print(tabulate(datatype, headers='keys', tablefmt='fancy_grid'))"
      ],
      "metadata": {
        "colab": {
          "base_uri": "https://localhost:8080/"
        },
        "id": "u5HXcLOvVvbv",
        "outputId": "97c8fdd9-bbe5-46db-822e-e8458ac476b7"
      },
      "execution_count": 7,
      "outputs": [
        {
          "output_type": "stream",
          "name": "stdout",
          "text": [
            "╒════╤═════════════════╤═══════════════╕\n",
            "│    │ column_name     │ column_type   │\n",
            "╞════╪═════════════════╪═══════════════╡\n",
            "│  0 │ Duration        │ float64       │\n",
            "├────┼─────────────────┼───────────────┤\n",
            "│  1 │ Protocol        │ int64         │\n",
            "├────┼─────────────────┼───────────────┤\n",
            "│  2 │ SourceIP        │ int64         │\n",
            "├────┼─────────────────┼───────────────┤\n",
            "│  3 │ DestinationIP   │ int64         │\n",
            "├────┼─────────────────┼───────────────┤\n",
            "│  4 │ SourcePort      │ int64         │\n",
            "├────┼─────────────────┼───────────────┤\n",
            "│  5 │ DestinationPort │ int64         │\n",
            "├────┼─────────────────┼───────────────┤\n",
            "│  6 │ PacketCount     │ int64         │\n",
            "├────┼─────────────────┼───────────────┤\n",
            "│  7 │ ByteCount       │ int64         │\n",
            "├────┼─────────────────┼───────────────┤\n",
            "│  8 │ Label           │ int64         │\n",
            "╘════╧═════════════════╧═══════════════╛\n"
          ]
        }
      ]
    },
    {
      "cell_type": "code",
      "source": [
        "missing = df.isnull().sum().reset_index()\n",
        "missing.columns = ['column_name', 'missing_count']\n",
        "print(tabulate(missing, headers='keys', tablefmt='fancy_grid'))"
      ],
      "metadata": {
        "colab": {
          "base_uri": "https://localhost:8080/"
        },
        "id": "nwcSQ7BUVxKb",
        "outputId": "fd66128c-186a-402b-f7be-aeab14d3f990"
      },
      "execution_count": 8,
      "outputs": [
        {
          "output_type": "stream",
          "name": "stdout",
          "text": [
            "╒════╤═════════════════╤═════════════════╕\n",
            "│    │ column_name     │   missing_count │\n",
            "╞════╪═════════════════╪═════════════════╡\n",
            "│  0 │ Duration        │               0 │\n",
            "├────┼─────────────────┼─────────────────┤\n",
            "│  1 │ Protocol        │               0 │\n",
            "├────┼─────────────────┼─────────────────┤\n",
            "│  2 │ SourceIP        │               0 │\n",
            "├────┼─────────────────┼─────────────────┤\n",
            "│  3 │ DestinationIP   │               0 │\n",
            "├────┼─────────────────┼─────────────────┤\n",
            "│  4 │ SourcePort      │               0 │\n",
            "├────┼─────────────────┼─────────────────┤\n",
            "│  5 │ DestinationPort │               0 │\n",
            "├────┼─────────────────┼─────────────────┤\n",
            "│  6 │ PacketCount     │               0 │\n",
            "├────┼─────────────────┼─────────────────┤\n",
            "│  7 │ ByteCount       │               0 │\n",
            "├────┼─────────────────┼─────────────────┤\n",
            "│  8 │ Label           │               0 │\n",
            "╘════╧═════════════════╧═════════════════╛\n"
          ]
        }
      ]
    },
    {
      "cell_type": "code",
      "source": [
        "total_record = len(df)\n",
        "print('Jumlah record: ', len(df))\n",
        "total_unique_ip = df['SourceIP'].nunique()\n",
        "print('Jumlah Unique Ip: ', total_unique_ip)\n",
        "total_unique_destination = df['DestinationPort'].nunique()\n",
        "print('Jumlah Unique Destination: ', total_unique_destination )\n",
        "total_duplicate = df.duplicated().sum()\n",
        "print(\"Total duplicate rows:\", total_duplicate)"
      ],
      "metadata": {
        "colab": {
          "base_uri": "https://localhost:8080/"
        },
        "id": "s83FUBr6V3px",
        "outputId": "2b10121a-273a-4b1b-90f5-1b3a8f65e47a"
      },
      "execution_count": 9,
      "outputs": [
        {
          "output_type": "stream",
          "name": "stdout",
          "text": [
            "Jumlah record:  2000\n",
            "Jumlah Unique Ip:  255\n",
            "Jumlah Unique Destination:  870\n",
            "Total duplicate rows: 0\n"
          ]
        }
      ]
    },
    {
      "cell_type": "code",
      "source": [
        "# Label encode Protocol\n",
        "le = LabelEncoder()\n",
        "df['Protocol'] = le.fit_transform(df['Protocol'])\n",
        "\n",
        "# Frequency encode IP\n",
        "freq_source = df['SourceIP'].value_counts()\n",
        "freq_dest = df['DestinationIP'].value_counts()\n",
        "df['SourceIP'] = df['SourceIP'].map(freq_source)\n",
        "df['DestinationIP'] = df['DestinationIP'].map(freq_dest)"
      ],
      "metadata": {
        "id": "wSW83qGYpY_q"
      },
      "execution_count": 10,
      "outputs": []
    },
    {
      "cell_type": "code",
      "source": [
        "X = df.drop('Label', axis=1)\n",
        "y = df['Label']\n",
        "\n",
        "# Spliting data\n",
        "x_train, x_test, y_train, y_test = train_test_split(X,y,test_size=0.2, random_state=42)\n",
        "# Reshaping the data to ensure it's 2D\n",
        "x_train_reshaped = x_train.values.reshape(-1, 1)\n",
        "x_test_reshaped = x_test.values.reshape(-1, 1)\n",
        "\n",
        "# Standardizing the features using StandardScaler\n",
        "scaler = StandardScaler()\n",
        "x_train_scaled = scaler.fit_transform(x_train_reshaped)\n",
        "x_test_scaled = scaler.transform(x_test_reshaped)"
      ],
      "metadata": {
        "id": "9QPIM3orbeuP"
      },
      "execution_count": 11,
      "outputs": []
    },
    {
      "cell_type": "code",
      "source": [
        "print('Banyak data x_train :',len(x_train))\n",
        "print('Banyak data x_test  :',len(x_test))\n",
        "print('Banyak data y_train :',len(y_train))\n",
        "print('Banyak data y_test  :',len(y_test))"
      ],
      "metadata": {
        "colab": {
          "base_uri": "https://localhost:8080/"
        },
        "id": "3V-p7WrLfUdZ",
        "outputId": "29bdda22-2333-4ac7-9676-4eb9087f2216"
      },
      "execution_count": 12,
      "outputs": [
        {
          "output_type": "stream",
          "name": "stdout",
          "text": [
            "Banyak data x_train : 1600\n",
            "Banyak data x_test  : 400\n",
            "Banyak data y_train : 1600\n",
            "Banyak data y_test  : 400\n"
          ]
        }
      ]
    },
    {
      "cell_type": "code",
      "source": [
        "# Training Data\n",
        "# --- Support Vector Machine ---\n",
        "svm = SVC(random_state=42)\n",
        "svm.fit(x_train, y_train)\n",
        "y_pred_svm = svm.predict(x_test)\n",
        "\n",
        "# Hitung metrik\n",
        "hasilSupportVectorMachine = accuracy_score(y_test, y_pred_svm)\n",
        "precision1 = precision_score(y_test, y_pred_svm)\n",
        "recall1 = recall_score(y_test, y_pred_svm)\n",
        "f1_1 = f1_score(y_test, y_pred_svm)\n",
        "\n",
        "# --- Multinomial Naive Bayes ---\n",
        "mnb = MultinomialNB()\n",
        "mnb.fit(x_train, y_train)\n",
        "y_pred_mnb = mnb.predict(x_test)\n",
        "\n",
        "# Hitung metrik\n",
        "hasilMultinomialNB = accuracy_score(y_test, y_pred_mnb)\n",
        "precision2 = precision_score(y_test, y_pred_mnb)\n",
        "recall2 = recall_score(y_test, y_pred_mnb)\n",
        "f1_2 = f1_score(y_test, y_pred_mnb)\n",
        "\n",
        "# --- Random Forest Classifier ---\n",
        "rfc = RandomForestClassifier(random_state=42)\n",
        "rfc.fit(x_train, y_train)\n",
        "y_pred_rfc = rfc.predict(x_test)\n",
        "\n",
        "# Hitung metrik\n",
        "hasilRandomForestClassifier = accuracy_score(y_test, y_pred_rfc)\n",
        "precision3 = precision_score(y_test, y_pred_rfc)\n",
        "recall3 = recall_score(y_test, y_pred_rfc)\n",
        "f1_3 = f1_score(y_test, y_pred_rfc)"
      ],
      "metadata": {
        "id": "OA2LFC_7fje5"
      },
      "execution_count": 13,
      "outputs": []
    },
    {
      "cell_type": "code",
      "source": [
        "model = {'Model':['Support Vector Machine',\n",
        "                  'Multinomial Naive Bayes',\n",
        "                  'Random Forest Classifier',\n",
        "                 ],\n",
        "         'AccuracyScore':[hasilSupportVectorMachine, hasilMultinomialNB, hasilRandomForestClassifier],\n",
        "         'Precision':[precision1, precision2, precision3],\n",
        "         'Recall':[recall1, recall2, recall3],\n",
        "         'F1-Score':[f1_1, f1_2, f1_3]\n",
        "         }\n",
        "model_df = pd.DataFrame(model)\n",
        "print(tabulate(model_df, headers='keys', tablefmt='fancy_grid'))"
      ],
      "metadata": {
        "colab": {
          "base_uri": "https://localhost:8080/"
        },
        "id": "GCMa_bxUfi6v",
        "outputId": "cb01ae8f-0180-4109-9de1-5b55fb7b5aa5"
      },
      "execution_count": 14,
      "outputs": [
        {
          "output_type": "stream",
          "name": "stdout",
          "text": [
            "╒════╤══════════════════════════╤═════════════════╤═════════════╤══════════╤════════════╕\n",
            "│    │ Model                    │   AccuracyScore │   Precision │   Recall │   F1-Score │\n",
            "╞════╪══════════════════════════╪═════════════════╪═════════════╪══════════╪════════════╡\n",
            "│  0 │ Support Vector Machine   │          0.5075 │    0.471698 │ 0.26178  │   0.3367   │\n",
            "├────┼──────────────────────────┼─────────────────┼─────────────┼──────────┼────────────┤\n",
            "│  1 │ Multinomial Naive Bayes  │          0.5075 │    0.485981 │ 0.544503 │   0.51358  │\n",
            "├────┼──────────────────────────┼─────────────────┼─────────────┼──────────┼────────────┤\n",
            "│  2 │ Random Forest Classifier │          0.5325 │    0.510638 │ 0.502618 │   0.506596 │\n",
            "╘════╧══════════════════════════╧═════════════════╧═════════════╧══════════╧════════════╛\n"
          ]
        }
      ]
    },
    {
      "cell_type": "code",
      "source": [
        "def predict_model(Duration, Protocol, SourceIP, DestinationIP, SourcePort, DestinationPort, PacketCount, ByteCount):\n",
        "    # Buat DataFrame input\n",
        "    data_input = pd.DataFrame({\n",
        "        'Duration': [Duration],\n",
        "        'Protocol': [Protocol],\n",
        "        'SourceIP': [SourceIP],\n",
        "        'DestinationIP': [DestinationIP],\n",
        "        'SourcePort': [SourcePort],\n",
        "        'DestinationPort': [DestinationPort],\n",
        "        'PacketCount': [PacketCount],\n",
        "        'ByteCount': [ByteCount]\n",
        "    })\n",
        "\n",
        "    # Preprocessing input\n",
        "    data_input['Protocol'] = le.transform(data_input['Protocol'])\n",
        "    data_input['SourceIP'] = data_input['SourceIP'].map(freq_source).fillna(0)\n",
        "    data_input['DestinationIP'] = data_input['DestinationIP'].map(freq_dest).fillna(0)\n",
        "\n",
        "    # Prediksi\n",
        "    pred_svm = svm.predict(data_input)[0]\n",
        "    pred_mnb = mnb.predict(data_input)[0]\n",
        "    pred_rfc = rfc.predict(data_input)[0]\n",
        "\n",
        "    print(f\"SVM Prediction: {pred_svm}\")\n",
        "    print(f\"MultinomialNB Prediction: {pred_mnb}\")\n",
        "    print(f\"RandomForest Prediction: {pred_rfc}\")"
      ],
      "metadata": {
        "id": "eEf1tTJYkLKs"
      },
      "execution_count": 23,
      "outputs": []
    },
    {
      "cell_type": "code",
      "source": [
        "interact(predict_model,\n",
        "         Duration=widgets.FloatText(value=24.0777, description='Duration:'),\n",
        "         Protocol=widgets.Dropdown(\n",
        "             options=[(cls, protocol_le.transform([cls])[0]) for cls in protocol_le.classes_],\n",
        "             value=protocol_le.transform(['TCP'])[0],\n",
        "             description='Protocol:'\n",
        "         ),\n",
        "         SourceIP=widgets.Text(value='192.168.1.1', description='SourceIP:'),\n",
        "         DestinationIP=widgets.Text(value='10.0.0.1', description='DestinationIP:'),\n",
        "         SourcePort=widgets.IntText(value=8055, description='SourcePort:'),\n",
        "         DestinationPort=widgets.IntText(value=1, description='DestinationPort:'),\n",
        "         PacketCount=widgets.IntText(value=827, description='PacketCount:'),\n",
        "         ByteCount=widgets.IntText(value=198244, description='ByteCount:')\n",
        ")"
      ],
      "metadata": {
        "colab": {
          "base_uri": "https://localhost:8080/",
          "height": 430,
          "referenced_widgets": [
            "973986070ec44106ac6f5e0b07db65a9",
            "b1bf44679b6a425f94c207eb31ccb3bf",
            "644637f1d8e842e4a89e606df6531835",
            "9e38fb6da6724222919ed0727d52fae1",
            "c1646d2cc0e2408497b5adfdbe8c20b9",
            "b2078ad6262946be871be4fb3d5bc892",
            "b34182bd6cde4f4482ad86fc549b73c6",
            "7e5f96d8c2ac4661a9a21ef1b24bfbda",
            "f17a84fb5ea14d539b48fd3cbda1ea96",
            "a3952ed7a8a247eda23f00f024ec90b7",
            "3bc751b835594a5ba22b6e3cc35c66db",
            "a95bdf372ff047ed872bdb475c1393d4",
            "5773b0b029f44391af5753a297bcd0a7",
            "c63f3d3221d94f57b36b55f364f7bc97",
            "b53b7c954ca340b69427b1a0df4e778c",
            "400ab24fce66449e965a12e6bc66aed0",
            "717a725082b8460da3034eef6ad8575d",
            "5ac77626b03b4cc9b5c9030dfa171a70",
            "267bdbc2cbff4120ae8098e1ca965b13",
            "42e240c3ec124d09b0818b490e8db17b",
            "8cd7fcf2779042ffbef61ff4e5036a5c",
            "a4a07ca1d833450d87617d657af3a2f8",
            "9a8491fdb6da4f8983210cb004698534",
            "8cc6f38b2aff4a1292b84b596f00c2ed",
            "b823fc4514344489adff376df037ba7c",
            "76c5176d8f3b4e3b97925d01fe64279e",
            "7bf972e36dc8424db94c1185ef677c3c",
            "a8c36878ebcd48a396e212a85150f73e"
          ]
        },
        "id": "sv-v_1nVo2I8",
        "outputId": "40c62e79-0546-47dc-dd32-e3ab108388b4"
      },
      "execution_count": 24,
      "outputs": [
        {
          "output_type": "display_data",
          "data": {
            "text/plain": [
              "interactive(children=(FloatText(value=24.0777, description='Duration:'), Dropdown(description='Protocol:', ind…"
            ],
            "application/vnd.jupyter.widget-view+json": {
              "version_major": 2,
              "version_minor": 0,
              "model_id": "973986070ec44106ac6f5e0b07db65a9"
            }
          },
          "metadata": {}
        },
        {
          "output_type": "execute_result",
          "data": {
            "text/plain": [
              "<function __main__.predict_model(Duration, Protocol, SourceIP, DestinationIP, SourcePort, DestinationPort, PacketCount, ByteCount)>"
            ],
            "text/html": [
              "<div style=\"max-width:800px; border: 1px solid var(--colab-border-color);\"><style>\n",
              "      pre.function-repr-contents {\n",
              "        overflow-x: auto;\n",
              "        padding: 8px 12px;\n",
              "        max-height: 500px;\n",
              "      }\n",
              "\n",
              "      pre.function-repr-contents.function-repr-contents-collapsed {\n",
              "        cursor: pointer;\n",
              "        max-height: 100px;\n",
              "      }\n",
              "    </style>\n",
              "    <pre style=\"white-space: initial; background:\n",
              "         var(--colab-secondary-surface-color); padding: 8px 12px;\n",
              "         border-bottom: 1px solid var(--colab-border-color);\"><b>predict_model</b><br/>def predict_model(Duration, Protocol, SourceIP, DestinationIP, SourcePort, DestinationPort, PacketCount, ByteCount)</pre><pre class=\"function-repr-contents function-repr-contents-collapsed\" style=\"\"><a class=\"filepath\" style=\"display:none\" href=\"#\">/tmp/ipython-input-2828381784.py</a>&lt;no docstring&gt;</pre></div>"
            ]
          },
          "metadata": {},
          "execution_count": 24
        }
      ]
    }
  ]
}